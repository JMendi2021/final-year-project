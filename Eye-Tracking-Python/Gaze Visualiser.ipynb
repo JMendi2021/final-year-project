{
 "cells": [
  {
   "cell_type": "markdown",
   "metadata": {},
   "source": [
    "# Gaze Visualiser\n",
    "This notebook takes in one files taken from the Pupil Recordings `annotations.csv` and a `offset.json`, and the data compiled from the analyser from the analyser. These are:"
   ]
  },
  {
   "cell_type": "code",
   "execution_count": 49,
   "metadata": {},
   "outputs": [],
   "source": [
    "# Imports\n",
    "import pandas as pd\n",
    "import matplotlib\n",
    "import matplotlib.pyplot as plt\n",
    "import numpy as np\n",
    "import random\n",
    "import json\n",
    "import warnings\n",
    "import os\n",
    "\n",
    "matplotlib.use('TkAgg')\n",
    "warnings.filterwarnings(\"ignore\", category=RuntimeWarning)\n",
    "\n",
    "# File Paths\n",
    "annotations_filepath = 'source/annotations.csv'\n",
    "gaze_filepath = ''\n",
    "offset_filepath = 'offset.json'"
   ]
  },
  {
   "cell_type": "markdown",
   "metadata": {},
   "source": [
    "# Reading the offset for correct time format and finding the filename of the dat"
   ]
  },
  {
   "cell_type": "code",
   "execution_count": 50,
   "metadata": {},
   "outputs": [],
   "source": [
    "def obtain_offset(filepath):\n",
    "    with open(offset_filepath, 'r') as file:\n",
    "        data = json.load(file)  \n",
    "    return data.get('offset')\n",
    "\n",
    "def find_gaze_csv(directory):\n",
    "    for filename in os.listdir(directory):\n",
    "        if filename.endswith(\".csv\"):\n",
    "            return filename\n",
    "    return None\n"
   ]
  },
  {
   "cell_type": "markdown",
   "metadata": {},
   "source": [
    "# Creating a visual representation"
   ]
  },
  {
   "cell_type": "markdown",
   "metadata": {},
   "source": [
    "Displaying the difference between both non-smoothed and smoothed versions of `norm_pos_x` and `norm_pos_y:"
   ]
  },
  {
   "cell_type": "code",
   "execution_count": 51,
   "metadata": {},
   "outputs": [],
   "source": [
    "def plot_norm_positions(df):\n",
    "    fig, axs = plt.subplots(1, 2, figsize=(15, 6))\n",
    "    axs[0].plot(df['time'], df['norm_pos_x'], label='Original norm_pos_x')\n",
    "    axs[0].plot(df['time'], df['smoothed_norm_pos_x'], label=f'Smoothed norm_pos_x (window={10})', linestyle='--')\n",
    "    axs[0].set_title('Norm_pos_x')\n",
    "\n",
    "    axs[1].plot(df['time'], df['norm_pos_y'], label='Original norm_pos_y')\n",
    "    axs[1].plot(df['time'], df['smoothed_norm_pos_y'], label=f'Smoothed norm_pos_y (window={10})', linestyle='--')\n",
    "    axs[1].set_title('Norm_pos_y')\n",
    "\n",
    "    for ax in axs:\n",
    "        ax.set_xlabel('Time (s)')\n",
    "        ax.set_ylabel('Position')\n",
    "        ax.legend()\n",
    "    fig.show()"
   ]
  },
  {
   "cell_type": "markdown",
   "metadata": {},
   "source": [
    "## Plotting Angular Distance agaisnt Time"
   ]
  },
  {
   "cell_type": "markdown",
   "metadata": {},
   "source": [
    "Using the `angular_distance` or `smoothed_angular_distance` plot an angular distance x time grapgh:"
   ]
  },
  {
   "cell_type": "code",
   "execution_count": 52,
   "metadata": {},
   "outputs": [],
   "source": [
    "# Plot angular distance data from a DataFrame against time.\n",
    "def plot_angular_distance(fig, ax, df, use_smooth=False, show_both=False):\n",
    "\n",
    "    if show_both:\n",
    "        ax.plot(df['time'], df['angular_distance'], label='Gaze Angular Distance',)\n",
    "        ax.plot(df['time'], df['smoothed_angular_distance'], label=f'Angular Distance', linestyle='--')\n",
    "    else:\n",
    "        if use_smooth:\n",
    "            ax.plot(df['time'], df['smoothed_angular_distance'], label=f'Angular Distance', color='orange')\n",
    "        else:\n",
    "            ax.plot(df['time'], df['angular_distance'], label='Gaze Angular Distance', color='orange')\n",
    "\n",
    "    ax.set_xlabel('Time (s)')\n",
    "    ax.set_ylabel('Angular Distance (rad)', color='black')\n",
    "    ax.legend(loc='lower right')\n",
    "    fig.suptitle('Interception Experiment')\n",
    "    fig.tight_layout()\n",
    "\n",
    "# Defining a graph to work with throughout the script:\n",
    "# combined_figure, ax3 = plt.subplots(figsize=(16, 8))\n",
    "# plot_angular_distance(combined_figure, ax3, gaze_df, show_both=True)\n",
    "# combined_figure.show()\n"
   ]
  },
  {
   "cell_type": "code",
   "execution_count": 53,
   "metadata": {},
   "outputs": [],
   "source": [
    "def plot_velocity_graph(df, use_smooth=False):\n",
    "    if use_smooth:\n",
    "        source_velocity = 'smoothed_angular_velocity'\n",
    "    else:\n",
    "        source_velocity = 'angular_velocity'\n",
    "    \n",
    "    velocities = df[source_velocity]\n",
    "    plt.figure(figsize=(18, 6))\n",
    "    plt.plot(df['time'], velocities, label=f'{velocities}',)\n",
    "\n",
    "    plt.title('Angular Velocity x Time Graph')\n",
    "    plt.xlabel('Time (s)')\n",
    "    plt.ylabel('Angular Velocity (rad/s)')\n",
    "    # plt.ylabel('Gaze Position')\n",
    "# plt.show()"
   ]
  },
  {
   "cell_type": "markdown",
   "metadata": {},
   "source": [
    "## Representing Eye Movements\n",
    "Within the dataframe, there is a field called `movement_type` where we identify which one of the three eye movements (Saccade, Fixations, and Smooth Pursuit) base on velocities and provided csv file from Pupil Lab."
   ]
  },
  {
   "cell_type": "markdown",
   "metadata": {},
   "source": [
    "### Visualising Regions of Saccades"
   ]
  },
  {
   "cell_type": "code",
   "execution_count": 54,
   "metadata": {},
   "outputs": [],
   "source": [
    "def plot_saccades(ax, df, use_smooth=False):\n",
    "    if use_smooth:\n",
    "        source_distance = 'smoothed_angular_distance'\n",
    "        movement_type= 'smoothed_movement_type'\n",
    "    else:\n",
    "        source_distance = 'angular_distance'\n",
    "        movement_type = 'movement_type'\n",
    "\n",
    "    distances = df[source_distance]\n",
    "    saccade_regions = df[movement_type] == 'Saccades'\n",
    "\n",
    "    ax.plot(df['time'], np.where(saccade_regions, distances, np.nan), color='red', label='Saccade Line')\n",
    "    ax.legend(loc='lower right')\n",
    "\n",
    "\n"
   ]
  },
  {
   "cell_type": "markdown",
   "metadata": {},
   "source": [
    "### Identifying Regions of Smooth Pursuit"
   ]
  },
  {
   "cell_type": "code",
   "execution_count": 55,
   "metadata": {},
   "outputs": [],
   "source": [
    "def plot_smooth_pursuits(ax, df, use_smooth=False):\n",
    "    if use_smooth:\n",
    "        source_distance = 'smoothed_angular_distance'\n",
    "        movement_type_column = 'smoothed_movement_type'\n",
    "    else:\n",
    "        source_distance = 'angular_distance'\n",
    "        movement_type_column = 'movement_type'\n",
    "\n",
    "    distances = df[source_distance]\n",
    "    smooth_pursuit_regions = df[movement_type_column] == 'Smooth Pursuit'\n",
    "\n",
    "    # Plot for Smooth Pursuit Data\n",
    "    ax.plot(df['time'], np.where(smooth_pursuit_regions, distances, np.nan), color='green', label='Smooth Pursuit')\n",
    "    ax.legend(loc='upper left')"
   ]
  },
  {
   "cell_type": "markdown",
   "metadata": {},
   "source": [
    "### Identifying Regions of Fixation"
   ]
  },
  {
   "cell_type": "code",
   "execution_count": 56,
   "metadata": {},
   "outputs": [],
   "source": [
    "def plot_fixations(ax, df, use_smooth=False):\n",
    "    if use_smooth:\n",
    "        source_distance = 'smoothed_angular_distance'\n",
    "        movement_type= 'smoothed_movement_type'\n",
    "    else:\n",
    "        source_distance = 'angular_distance'\n",
    "        movement_type = 'movement_type'\n",
    "\n",
    "    distances = df[source_distance]\n",
    "    fixation_regions = df[movement_type] == 'Fixation'\n",
    "\n",
    "    ax.plot(df['time'], np.where(fixation_regions, distances, np.nan), color='blue', label='Fixation')\n",
    "    ax.legend(loc='lower right')"
   ]
  },
  {
   "cell_type": "markdown",
   "metadata": {},
   "source": [
    "### Combining the identification functions\n",
    "This would combine each of the function and allow the user control on what they wish to present on the graph"
   ]
  },
  {
   "cell_type": "code",
   "execution_count": 57,
   "metadata": {},
   "outputs": [],
   "source": [
    "def plot_data(gaze_df, use_smooth, fixations=False, smooth_pursuits=False, saccades=False):\n",
    "    figure, ax = plt.subplots(figsize=(16, 8))\n",
    "    plot_angular_distance(figure, ax, gaze_df, use_smooth=use_smooth)\n",
    "\n",
    "    if fixations:\n",
    "        plot_fixations(ax, gaze_df, use_smooth=use_smooth)\n",
    "    \n",
    "    if smooth_pursuits:\n",
    "        plot_smooth_pursuits(ax, gaze_df, use_smooth=use_smooth)\n",
    "\n",
    "    if saccades:\n",
    "        plot_saccades(ax, gaze_df, use_smooth=use_smooth)\n",
    "\n",
    "    return figure, ax"
   ]
  },
  {
   "cell_type": "markdown",
   "metadata": {},
   "source": [
    "## Adding Annotations to the graph\n",
    "The annotation is compiled of different events that has occured throughout the event."
   ]
  },
  {
   "cell_type": "markdown",
   "metadata": {},
   "source": [
    "`add_annotations` looks at a gieven filepath to an `annotation_csv` file and uses `labels` and `timestamp` to determine where to plot events on a Angular Distance Time Graph"
   ]
  },
  {
   "cell_type": "code",
   "execution_count": 58,
   "metadata": {},
   "outputs": [],
   "source": [
    "# Generate a random RGB color tuple.\n",
    "def generate_random_color():\n",
    "    return (random.random(), random.random(), random.random())\n",
    "\n",
    "# Draw lines and labels representing spawned objects and interceptions on the given axis.\n",
    "def draw_objects_and_interceptions(ax, spawn_timestamps, interception_timestamps, annotations_df, obstacle_ids):\n",
    "    object_colors = {}\n",
    "\n",
    "    # Handle Spawning annotations\n",
    "    for timestamp, obj_id in zip(spawn_timestamps, annotations_df.loc[annotations_df['label'] == ('Spawning'), 'id']):\n",
    "\n",
    "        # Checks if the current annotation is refering to an Obstacle objectType by filtering the annotations_df for the Object ID and retrieving the first 'objectType' (which there should only be one)\n",
    "        obj_type = annotations_df.loc[(annotations_df['label'] == 'Spawning') & (annotations_df['id'] == obj_id), 'objectType'].values[0] if 'objectType' in annotations_df.columns else None\n",
    "        if obj_type == 'Obstacle' and obj_id in obstacle_ids:\n",
    "            draw_object_line(ax, timestamp, obj_id, object_colors, is_interception=False)\n",
    "\n",
    "    # Handle Interception annotations\n",
    "    for timestamp, obj_id in zip(interception_timestamps, annotations_df.loc[annotations_df['label'] == 'Intercepted', 'id']):\n",
    "        obj_type = annotations_df.loc[(annotations_df['label'] =='Intercepted') & (annotations_df['id'] == obj_id),'objectType'].values[0] if 'objectType' in annotations_df.columns else None\n",
    "        # There is a chance for an interception to be missed, so if there exists no records for the ID with label 'Intercepted' then there would be no object type to use, therefore don't need to plot\n",
    "        \n",
    "        if obj_type == 'Obstacle' and obj_id in obstacle_ids:\n",
    "            draw_object_line(ax, timestamp, obj_id, object_colors, is_interception=True)\n",
    "\n",
    "    return object_colors\n",
    "\n",
    "# Draw vertical lines on the given axis to represent the start and end of an experiment and scale the x axis to those timestamps\n",
    "def draw_experiment_lines(ax, start_timestamp, end_timestamp):\n",
    "    ax.axvline(x=start_timestamp, color='black', linestyle='--')\n",
    "    ax.axvline(x=end_timestamp, color='black', linestyle='--')\n",
    "    ax.set_xlim(start_timestamp, end_timestamp)\n",
    "\n",
    "# Draw a vertical line on the given axis to represent an object and add a text label.\n",
    "def draw_object_line(ax, timestamp, obj_id, object_colors, is_interception):\n",
    "    # Assign a random RGB color if ID doesn't have one\n",
    "    object_colors.setdefault(obj_id, generate_random_color())\n",
    "\n",
    "    # Get the line color\n",
    "    line_color = object_colors[obj_id]\n",
    "\n",
    "    # Determine the vertical alignment and position\n",
    "    vertical_alignment = 'top' if is_interception else 'bottom'\n",
    "    vertical_position = ax.get_ylim()[0] + 0.02 if vertical_alignment == 'bottom' else ax.get_ylim()[1] - 0.02\n",
    "\n",
    "    # Plot a vertical line\n",
    "    ax.axvline(x=timestamp, color=line_color, linestyle='--', alpha=0.7)\n",
    "\n",
    "    # Add text label\n",
    "    label_text = f'{\"Intercepted\" if is_interception else \"Spawned\"} {int(obj_id)} at {timestamp:.2f}'\n",
    "    ax.text(timestamp, vertical_position, label_text, rotation=90, va=vertical_alignment, ha='right', color='black')\n",
    "\n",
    "\n",
    "# Plot regions on the given axis, using colors based on the object_colors dictionary for each object ID.\n",
    "def plot_observations(ax, annotations_df, object_colours, fill_threshold=1.0):\n",
    "    looking_at_df = annotations_df.loc[annotations_df['label'] == 'Looking At'].copy()\n",
    "\n",
    "    # Create an empty dictionary to store the regions for each object ID\n",
    "    id_region_dict = {}\n",
    "\n",
    "    # Initialise variables for tracking consecutive points\n",
    "    current_obj_id = None\n",
    "    start_time = None\n",
    "\n",
    "    # Iterate through each row in the 'Looking At' dataframe\n",
    "    for _, row in looking_at_df.iterrows():\n",
    "        obj_id = row['id']\n",
    "        timestamp = row['time']\n",
    "\n",
    "        # Check if it's the same object and within the threshold seconds\n",
    "        if obj_id == current_obj_id and start_time is not None and timestamp - start_time <= fill_threshold: \n",
    "            end_time = timestamp # Update the end time for the current region\n",
    "        else:\n",
    "            # A new region is created when the next ID does not match the current region's ID OR if the time between two points is greater than the threshold (indicating it's a new region for the same ID)\n",
    "            if current_obj_id is not None and start_time is not None:\n",
    "                if current_obj_id not in id_region_dict: # If an ID has not been given regions, this will make sure that it has been intialised before we can add new regions\n",
    "                    id_region_dict[current_obj_id] = [] \n",
    "                id_region_dict[current_obj_id].append((start_time, end_time)) # Adds this region to the key with the Object ID\n",
    "\n",
    "            # Update tracking variables for the next iteration\n",
    "            current_obj_id = obj_id\n",
    "            start_time = timestamp\n",
    "            end_time = timestamp\n",
    "\n",
    "    # Add the last region after the loop\n",
    "    if current_obj_id is not None and start_time is not None:\n",
    "        if current_obj_id not in id_region_dict:\n",
    "            id_region_dict[current_obj_id] = []\n",
    "        id_region_dict[current_obj_id].append((start_time, end_time))\n",
    "\n",
    "    # Iterates through each key-value pair\n",
    "    for obj_id, regions in id_region_dict.items():\n",
    "        color = object_colours[obj_id] # Retrieves the colour of the current object from the dictionary\n",
    "\n",
    "        for region in regions: # Each region should have a start time, and an end time. We iterate through each one whiles also colouring the region between them\n",
    "            start_time, end_time = region\n",
    "            ax.axvspan(start_time, end_time, color=color, alpha=0.2, label=f'Object ID {obj_id}')\n",
    "\n",
    "# Add annotations to a given plot.\n",
    "def add_annotations(ax, offset, filepath='annotations.csv', show_observable=False):\n",
    "    if filepath:\n",
    "        # Creates a DataFrame containing all the annotation data, and also creating a new field called 'Time' which format timestamps into the corresponding time of the recording\n",
    "        annotations_df = pd.read_csv(filepath)\n",
    "        annotations_df['time'] = annotations_df['timestamp'] + offset\n",
    "        annotations_df['time'] -= annotations_df['time'].min()\n",
    "\n",
    "        # Filter annotations for 'Spawning' or 'Intercepted' labels and ObjectType 'Obstacle'\n",
    "        filtered_annotations = annotations_df[\n",
    "            (annotations_df['label'].isin(['Spawning', 'Intercepted'])) &\n",
    "            (annotations_df['objectType'] == 'Obstacle')\n",
    "        ]\n",
    "\n",
    "        # Identifying different types of annotation to plot on the graph\n",
    "        spawn_timestamps = filtered_annotations.loc[filtered_annotations['label'] == 'Spawning', 'time'].values\n",
    "        interception_timestamps = filtered_annotations.loc[filtered_annotations['label'] == 'Intercepted', 'time'].values\n",
    "\n",
    "        start_timestamp = annotations_df.loc[(annotations_df['label'] == 'Experiment Started'), 'time'].values\n",
    "        end_timestamp = annotations_df.loc[(annotations_df['label'] == 'Experiment Ended'), 'time'].values\n",
    "\n",
    "        draw_experiment_lines(ax, start_timestamp, end_timestamp) # Draws a line for when the experiment has started and ended, as well as adjusting the x-axis scale to show only between those points\n",
    "\n",
    "        # Extract ObjectType 'Obstacle' and ID for plotting\n",
    "        obstacle_ids = filtered_annotations.loc[:, 'id'].values\n",
    "\n",
    "        # Each object should be given a colour for their specific ID, this can be used for when we want to show what object the user is currently observing\n",
    "        object_colors = draw_objects_and_interceptions(ax, spawn_timestamps, interception_timestamps, annotations_df, obstacle_ids)\n",
    "        \n",
    "        # This will show regions of which indicates where the user looks at depending on the annotations with the label 'Looking At'\n",
    "        if show_observable:\n",
    "            plot_observations(ax, annotations_df, object_colors)"
   ]
  },
  {
   "cell_type": "markdown",
   "metadata": {},
   "source": [
    "## Displaying outcome of identifications and annotations:"
   ]
  },
  {
   "cell_type": "code",
   "execution_count": 60,
   "metadata": {},
   "outputs": [],
   "source": [
    "# Retrieve the filepath of the csv file containing the data needed\n",
    "gaze_filepath = find_gaze_csv(os.getcwd())\n",
    "\n",
    "# Creates a DataFrame base on the csv in that filepath\n",
    "gaze_df = pd.read_csv(gaze_filepath)\n",
    "\n",
    "# Obtain the offset that helps format the annotation file\n",
    "offset = obtain_offset(offset_filepath)\n",
    "\n",
    "# Plot the eye data with required designs\n",
    "figure, ax = plot_data(gaze_df, use_smooth=True, fixations=True, saccades=True, smooth_pursuits=True)\n",
    "\n",
    "# Add the annotations to the graph\n",
    "add_annotations(ax, offset, annotations_filepath, True)\n",
    "\n",
    "# Display the graph\n",
    "figure.show()\n",
    "\n",
    "plot_norm_positions(gaze_df)\n"
   ]
  }
 ],
 "metadata": {
  "kernelspec": {
   "display_name": "Python 3",
   "language": "python",
   "name": "python3"
  },
  "language_info": {
   "codemirror_mode": {
    "name": "ipython",
    "version": 3
   },
   "file_extension": ".py",
   "mimetype": "text/x-python",
   "name": "python",
   "nbconvert_exporter": "python",
   "pygments_lexer": "ipython3",
   "version": "3.11.2"
  }
 },
 "nbformat": 4,
 "nbformat_minor": 2
}
