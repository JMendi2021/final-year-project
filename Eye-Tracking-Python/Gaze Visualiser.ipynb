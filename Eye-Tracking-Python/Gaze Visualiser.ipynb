{
 "cells": [
  {
   "cell_type": "markdown",
   "metadata": {},
   "source": [
    "# Gaze Visualiser\n",
    "This notebook takes in the exported data from the gaze analyser and displays them as an interactive graph to closely interpret the data. This uses the following files:\n",
    "- `gaze.csv`\n",
    "- `objects.csv`\n",
    "- `regions.csv`\n",
    "- `experiment_info.json`"
   ]
  },
  {
   "cell_type": "code",
   "execution_count": 1,
   "metadata": {},
   "outputs": [
    {
     "name": "stderr",
     "output_type": "stream",
     "text": [
      "C:\\Users\\jhund\\AppData\\Local\\Temp\\ipykernel_7532\\1008603990.py:2: DeprecationWarning: \n",
      "Pyarrow will become a required dependency of pandas in the next major release of pandas (pandas 3.0),\n",
      "(to allow more performant data types, such as the Arrow string type, and better interoperability with other libraries)\n",
      "but was not found to be installed on your system.\n",
      "If this would cause problems for you,\n",
      "please provide us feedback at https://github.com/pandas-dev/pandas/issues/54466\n",
      "        \n",
      "  import pandas as pd\n"
     ]
    }
   ],
   "source": [
    "# Imports\n",
    "import pandas as pd\n",
    "import matplotlib\n",
    "import matplotlib.pyplot as plt\n",
    "import numpy as np\n",
    "import os\n",
    "import json\n",
    "import warnings\n",
    "\n",
    "matplotlib.use('TkAgg')\n",
    "warnings.filterwarnings(\"ignore\", category=RuntimeWarning)\n",
    "\n",
    "# File Paths\n",
    "regions_filepath = 'visualise_source/regions.csv'\n",
    "gaze_filepath = 'visualise_source/gaze.csv'\n",
    "objects_filepath = 'visualise_source/objects.csv'\n",
    "experiment_info_filepath = 'visualise_source/experiment_info.json'\n",
    "\n",
    "\n",
    "# Contrasting Colours\n",
    "CONTRASTING_COLURS = ['#011627', '#2ec4b6', '#e71d36', '#ff9f1c']\n",
    "current_colour_index = 0"
   ]
  },
  {
   "cell_type": "markdown",
   "metadata": {},
   "source": [
    "Reading the CSV files as dataframes, and the experiment information a dictionary:"
   ]
  },
  {
   "cell_type": "code",
   "execution_count": 2,
   "metadata": {},
   "outputs": [],
   "source": [
    "def open_files(gaze, objects, regions, experiment_info):\n",
    "    gaze_df = pd.read_csv(gaze)\n",
    "    objects_df = pd.read_csv(objects)\n",
    "    regions_df = pd.read_csv(regions)\n",
    "    with open(experiment_info, 'r') as file:\n",
    "        data = json.load(file)\n",
    "        exp_info = {\n",
    "            'Start': data.get('Start'),\n",
    "            'End': data.get('End')\n",
    "        }\n",
    "\n",
    "    return gaze_df, objects_df, regions_df, exp_info\n",
    "\n",
    "gaze, objects, regions, exp_info = open_files(gaze_filepath, objects_filepath, regions_filepath, experiment_info_filepath)"
   ]
  },
  {
   "cell_type": "markdown",
   "metadata": {},
   "source": [
    "## Displaying Gaze Positions\n",
    "This is to visualise the difference smoothed and unsmoothed version of `norm_pos_x` and  `norm_pos_y`:"
   ]
  },
  {
   "cell_type": "code",
   "execution_count": 3,
   "metadata": {},
   "outputs": [],
   "source": [
    "def plot_norm_positions(df):\n",
    "    fig, axs = plt.subplots(1, 2, figsize=(15, 6))\n",
    "    axs[0].plot(df['time'], df['norm_pos_x'], label='Original norm_pos_x')\n",
    "    axs[0].plot(df['time'], df['smoothed_norm_pos_x'], label=f'Smoothed norm_pos_x (window={10})', linestyle='--')\n",
    "    axs[0].set_title('Norm_pos_x')\n",
    "\n",
    "    axs[1].plot(df['time'], df['norm_pos_y'], label='Original norm_pos_y')\n",
    "    axs[1].plot(df['time'], df['smoothed_norm_pos_y'], label=f'Smoothed norm_pos_y (window={10})', linestyle='--')\n",
    "    axs[1].set_title('Norm_pos_y')\n",
    "\n",
    "    for ax in axs:\n",
    "        ax.set_xlabel('Time (s)')\n",
    "        ax.set_ylabel('Position')\n",
    "        ax.legend()\n",
    "    fig.show()\n",
    "\n",
    "plot_norm_positions(gaze)"
   ]
  },
  {
   "cell_type": "markdown",
   "metadata": {},
   "source": [
    "## Plotting the interception graph\n",
    "The following functions looks at taking each of the dataframe, and plotting the graph according to using smoothed or unsmoothed positions."
   ]
  },
  {
   "cell_type": "markdown",
   "metadata": {},
   "source": [
    "### Angular Distance agaisnt Time Graph\n",
    "The first graph plots the main graph that acts as the basis representation for gaze positions:"
   ]
  },
  {
   "cell_type": "code",
   "execution_count": 4,
   "metadata": {},
   "outputs": [],
   "source": [
    "def plot_angular_distance(fig, ax, df, use_smooth=True, show_both=False):\n",
    "\n",
    "    if show_both:\n",
    "        ax.plot(df['time'], df['angular_distance'], label='Gaze Angular Distance',)\n",
    "        ax.plot(df['time'], df['smoothed_angular_distance'], label=f'Angular Distance', linestyle='--')\n",
    "    else:\n",
    "        if use_smooth:\n",
    "            ax.plot(df['time'], df['smoothed_angular_distance'], label=f'Angular Distance', color='orange')\n",
    "        else:\n",
    "            ax.plot(df['time'], df['angular_distance'], label='Gaze Angular Distance', color='orange')\n",
    "\n",
    "    ax.set_xlabel('Time (s)')\n",
    "    ax.set_ylabel('Angular Distance (rad)', color='black')\n",
    "    ax.legend(loc='lower right')\n",
    "    fig.suptitle('Interception Experiment')\n",
    "    fig.tight_layout()\n",
    "\n",
    "# plot_angular_distance(figure, ax, gaze)"
   ]
  },
  {
   "cell_type": "markdown",
   "metadata": {},
   "source": [
    "## Visualising Eye Movements\n",
    "Within the dataframe, there is a field called `movement_type` where we identify which one of the three eye movements (Saccade, Fixations, and Smooth Pursuit) base on velocities and provided csv file from Pupil Lab."
   ]
  },
  {
   "cell_type": "markdown",
   "metadata": {},
   "source": [
    "### Regions of Saccades"
   ]
  },
  {
   "cell_type": "code",
   "execution_count": 5,
   "metadata": {},
   "outputs": [],
   "source": [
    "def plot_saccades(ax, df, use_smooth=False):\n",
    "    if use_smooth:\n",
    "        source_distance = 'smoothed_angular_distance'\n",
    "        movement_type= 'smoothed_movement_type'\n",
    "    else:\n",
    "        source_distance = 'angular_distance'\n",
    "        movement_type = 'movement_type'\n",
    "\n",
    "    distances = df[source_distance]\n",
    "    saccade_regions = df[movement_type] == 'Saccades'\n",
    "\n",
    "    ax.plot(df['time'], np.where(saccade_regions, distances, np.nan), color='red', label='Saccade Line')\n",
    "    ax.legend(loc='lower right')"
   ]
  },
  {
   "cell_type": "markdown",
   "metadata": {},
   "source": [
    "### Regions of Smooth Pursuit"
   ]
  },
  {
   "cell_type": "code",
   "execution_count": 6,
   "metadata": {},
   "outputs": [],
   "source": [
    "def plot_smooth_pursuits(ax, df, use_smooth=False):\n",
    "    if use_smooth:\n",
    "        source_distance = 'smoothed_angular_distance'\n",
    "        movement_type_column = 'smoothed_movement_type'\n",
    "    else:\n",
    "        source_distance = 'angular_distance'\n",
    "        movement_type_column = 'movement_type'\n",
    "\n",
    "    distances = df[source_distance]\n",
    "    smooth_pursuit_regions = df[movement_type_column] == 'Smooth Pursuit'\n",
    "\n",
    "    # Plot for Smooth Pursuit Data\n",
    "    ax.plot(df['time'], np.where(smooth_pursuit_regions, distances, np.nan), color='green', label='Smooth Pursuit')\n",
    "    ax.legend(loc='upper left')"
   ]
  },
  {
   "cell_type": "markdown",
   "metadata": {},
   "source": [
    "### Regions of Fixation"
   ]
  },
  {
   "cell_type": "code",
   "execution_count": 7,
   "metadata": {},
   "outputs": [],
   "source": [
    "def plot_fixations(ax, df, use_smooth=False):\n",
    "    if use_smooth:\n",
    "        source_distance = 'smoothed_angular_distance'\n",
    "        movement_type= 'smoothed_movement_type'\n",
    "    else:\n",
    "        source_distance = 'angular_distance'\n",
    "        movement_type = 'movement_type'\n",
    "\n",
    "    distances = df[source_distance]\n",
    "    fixation_regions = df[movement_type] == 'Fixation'\n",
    "\n",
    "    ax.plot(df['time'], np.where(fixation_regions, distances, np.nan), color='blue', label='Fixation')\n",
    "    ax.legend(loc='lower right')"
   ]
  },
  {
   "cell_type": "markdown",
   "metadata": {},
   "source": [
    "### Combining the identification function:\n",
    "This would combine each of the function and allow the user control on what they wish to present on the graph"
   ]
  },
  {
   "cell_type": "code",
   "execution_count": 8,
   "metadata": {},
   "outputs": [],
   "source": [
    "def plot_data(figure, ax, gaze_df, use_smooth=True, fixations=False, smooth_pursuits=False, saccades=False):\n",
    "    plot_angular_distance(figure, ax, gaze_df, use_smooth=use_smooth)\n",
    "    if fixations:\n",
    "        plot_fixations(ax, gaze_df, use_smooth=use_smooth)\n",
    "    \n",
    "    if smooth_pursuits:\n",
    "        plot_smooth_pursuits(ax, gaze_df, use_smooth=use_smooth)\n",
    "\n",
    "    if saccades:\n",
    "        plot_saccades(ax, gaze_df, use_smooth=use_smooth)\n",
    "\n",
    "    return figure, ax"
   ]
  },
  {
   "cell_type": "markdown",
   "metadata": {},
   "source": [
    "### Visualising annotations\n",
    "Annotations consists of multiple types. These are: Spawning, Intercepted, Looking At, Experiment End/Start. To simplify this approach, the analyser exports two files `regions.csv` and `objects.csv` which already has information which lets us display the regions and object information on the graph:"
   ]
  },
  {
   "cell_type": "markdown",
   "metadata": {},
   "source": [
    "#### Adjusting and showing experiment start/end\n",
    "Due to the recording starting before the experiment starts and delays before ending the experiment, we want to indicate which part of the graph is most relevant at first"
   ]
  },
  {
   "cell_type": "code",
   "execution_count": 9,
   "metadata": {},
   "outputs": [],
   "source": [
    "def plot_experiment_lines(ax, experiment_info):\n",
    "    start = experiment_info['Start']\n",
    "    end = experiment_info['End']\n",
    "    ax.axvline(x=start, color='black', linestyle='--')\n",
    "    ax.axvline(x=end, color='black', linestyle='--')\n",
    "    ax.set_xlim(start, end) # Adjust the graph to display between the lines when the graph appears"
   ]
  },
  {
   "cell_type": "markdown",
   "metadata": {},
   "source": [
    "#### Representing Objects\n",
    "To represent objects, each has been assigned a HEX code for a colour. They have been chosen as adjacent colours are contrasting for easy visualisation and avoid generating colours that might be close to each other:\n"
   ]
  },
  {
   "cell_type": "code",
   "execution_count": 10,
   "metadata": {},
   "outputs": [],
   "source": [
    "def choose_colour():\n",
    "    global current_colour_index\n",
    "    colour = CONTRASTING_COLURS[current_colour_index] # Gets the colour in the current index\n",
    "    current_colour_index = (current_colour_index + 1) % len(CONTRASTING_COLURS) # Increments the current index\n",
    "    return colour"
   ]
  },
  {
   "cell_type": "code",
   "execution_count": 11,
   "metadata": {},
   "outputs": [],
   "source": [
    "def assign_colour(objects_df):\n",
    "    object_colours = {}\n",
    "    for _, row in objects_df.iterrows():\n",
    "        object_id = int(row['id'])\n",
    "        object_colours[object_id] = choose_colour()\n",
    "        # print(f'{object_id} with colour {object_colours[object_id]}')\n",
    "    return object_colours\n",
    "\n",
    "# object_colours = assign_colour(objects)"
   ]
  },
  {
   "cell_type": "markdown",
   "metadata": {},
   "source": [
    "Once each object has been given a colour, we can start plotting the regions of observation, and spawn/intercept lines"
   ]
  },
  {
   "cell_type": "code",
   "execution_count": 12,
   "metadata": {},
   "outputs": [],
   "source": [
    "def plot_objectLines(ax, objects_df, object_colours):\n",
    "    for _, row in objects_df.iterrows():\n",
    "\n",
    "        object_id = row['id']\n",
    "        line_colour = object_colours[object_id]\n",
    "\n",
    "        spawn_time = row['Spawning']\n",
    "        ax.axvline(x=spawn_time, color=line_colour, linestyle='--', alpha=0.7)\n",
    "        ax.text(spawn_time, ax.get_ylim()[0] + 0.02, f'Spawned {object_id} at {spawn_time:.2f}', rotation=90, va='bottom', ha='right', color='black')\n",
    "\n",
    "        intercepted_time = row['Intercepted']\n",
    "        if row['Intercepted'] != pd.NaT:\n",
    "            ax.axvline(x=intercepted_time, color=line_colour, linestyle='--', alpha=0.7)\n",
    "            ax.text(intercepted_time, ax.get_ylim()[1] - 0.02, f'Intercepted {object_id} at {intercepted_time:.2f}', rotation=90, va='top', ha='right', color='black')\n",
    "\n",
    "# plot_objectLines(ax, objects, object_colours)"
   ]
  },
  {
   "cell_type": "markdown",
   "metadata": {},
   "source": [
    "Plotting the observation across the experiment as regions on the graph"
   ]
  },
  {
   "cell_type": "code",
   "execution_count": 13,
   "metadata": {},
   "outputs": [],
   "source": [
    "def plot_observations(ax, regions_df, object_colours):\n",
    "    for _, row in regions_df.iterrows():\n",
    "        object_id = row['id']\n",
    "        colour = object_colours[object_id]\n",
    "        start = row['start_time']\n",
    "        end = row['end_time']\n",
    "\n",
    "        ax.axvspan(start, end, color=colour, alpha=0.2)\n",
    "\n",
    "# plot_observations(ax, regions, object_colours)"
   ]
  },
  {
   "cell_type": "markdown",
   "metadata": {},
   "source": [
    "#### Combined Annotation functions\n",
    "This function combines all the annotation related files"
   ]
  },
  {
   "cell_type": "code",
   "execution_count": 14,
   "metadata": {},
   "outputs": [],
   "source": [
    "def plot_annotations(ax, regions_df, objects_df, experiment_info):\n",
    "    object_colours = assign_colour(objects_df)\n",
    "    plot_experiment_lines(ax, experiment_info)\n",
    "    plot_objectLines(ax, objects_df, object_colours)\n",
    "    plot_observations(ax, regions_df, object_colours)"
   ]
  },
  {
   "cell_type": "markdown",
   "metadata": {},
   "source": [
    "## Displaying the graph"
   ]
  },
  {
   "cell_type": "code",
   "execution_count": 15,
   "metadata": {},
   "outputs": [],
   "source": [
    "figure, ax = plt.subplots(figsize=(16, 8))\n",
    "\n",
    "plot_data(figure, ax, gaze, use_smooth=False, fixations=True, smooth_pursuits=True, saccades=True)\n",
    "# plot_annotations(ax, regions, objects, exp_info)\n",
    "\n",
    "figure.show()"
   ]
  }
 ],
 "metadata": {
  "kernelspec": {
   "display_name": "Python 3",
   "language": "python",
   "name": "python3"
  },
  "language_info": {
   "codemirror_mode": {
    "name": "ipython",
    "version": 3
   },
   "file_extension": ".py",
   "mimetype": "text/x-python",
   "name": "python",
   "nbconvert_exporter": "python",
   "pygments_lexer": "ipython3",
   "version": "3.11.2"
  }
 },
 "nbformat": 4,
 "nbformat_minor": 2
}
