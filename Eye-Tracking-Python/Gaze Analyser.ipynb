{
 "cells": [
  {
   "cell_type": "markdown",
   "metadata": {},
   "source": [
    "# Gaze Interception\n",
    "This notebook takes in three files taken from the Pupil Recordings you have exported in Pupil Player. These are:\n",
    "- `gaze_positions.csv` (contains raw data in regards to the gaze made throughout the recording)\n",
    "- `info.player.json` (contains system and sync time used to format the recording timestamps)"
   ]
  },
  {
   "cell_type": "code",
   "execution_count": 40,
   "metadata": {},
   "outputs": [],
   "source": [
    "# Imports\n",
    "import pandas as pd\n",
    "import matplotlib\n",
    "import matplotlib.pyplot as plt\n",
    "import numpy as np\n",
    "import random\n",
    "import json\n",
    "import warnings\n",
    "\n",
    "matplotlib.use('TkAgg')\n",
    "warnings.filterwarnings(\"ignore\", category=RuntimeWarning)\n",
    "\n",
    "# File Paths\n",
    "info_player_filePath = 'source/info.player.json'\n",
    "gaze_csv_filePath = 'source/gaze_positions.csv'\n",
    "annotations_filepath = 'source/annotations.csv'\n",
    "fixation_filepath = 'source/fixations.csv'"
   ]
  },
  {
   "cell_type": "markdown",
   "metadata": {},
   "source": [
    "# Creating the DataFrame for the data"
   ]
  },
  {
   "cell_type": "markdown",
   "metadata": {},
   "source": [
    "Reading the `info.player` JSON to retrieve `start_time_synced_s` and `start_time_system_s`. This is used to format the timestamp correctly to indicate time throughout the experiment:"
   ]
  },
  {
   "cell_type": "code",
   "execution_count": 41,
   "metadata": {},
   "outputs": [],
   "source": [
    "def obtain_offset(filepath):\n",
    "    with open(info_player_filePath, 'r') as file:\n",
    "        data = json.load(file)  \n",
    "    return data.get('start_time_system_s') - data.get('start_time_synced_s')"
   ]
  },
  {
   "cell_type": "markdown",
   "metadata": {},
   "source": [
    "Now, reading the gaze_position.csv file to obtain base data, formating time, calculating smoothed positions, and angular distance and velocity of each timestamp. And removing data that contains infinte or NaN values."
   ]
  },
  {
   "cell_type": "code",
   "execution_count": 42,
   "metadata": {},
   "outputs": [
    {
     "name": "stdout",
     "output_type": "stream",
     "text": [
      "There is a total of 8047 gaze positions\n"
     ]
    }
   ],
   "source": [
    "# Calculate angular distance given Cartesian coordinates (x, y)\n",
    "def calculate_angular_distance(x, y):\n",
    "    return np.arctan2(y, x)\n",
    "\n",
    "# Calculate velocity given angular distance and corresponding timestamps.\n",
    "def calculate_velocity(angular_distance, timestamp):\n",
    "    time_diff = np.diff(timestamp)\n",
    "    angular_distance_diff = np.diff(angular_distance)\n",
    "    velocity = angular_distance_diff / time_diff\n",
    "    return np.concatenate(([np.nan], velocity))\n",
    "\n",
    "\n",
    "# Applies Rolling Medium over the input field, and exports that into the output field\n",
    "def smooth_data(df, input, output, window_size=0):\n",
    "    df[output] = df[input].rolling(window=window_size).median()\n",
    "    return df\n",
    "\n",
    "def obtain_gaze_data(filepath: str, window=10, offset=0):\n",
    "    csv_df = pd.read_csv(filepath)\n",
    "    results_df = pd.DataFrame(columns=['gaze_timestamp',\n",
    "                                       'time',\n",
    "                                       'norm_pos_x', \n",
    "                                       'norm_pos_y', \n",
    "                                       'angular_distance',\n",
    "                                       'angular_velocity',\n",
    "                                       'movement_type',\n",
    "                                       'smoothed_norm_pos_x', \n",
    "                                       'smoothed_norm_pos_y',\n",
    "                                       'smoothed_angular_distance',\n",
    "                                       'smoothed_angular_velocity',\n",
    "                                       'smoothed_movement_type'])\n",
    "\n",
    "    # Copy the data from csv of necessary fields\n",
    "    results_df['gaze_timestamp'] = csv_df['gaze_timestamp']\n",
    "    results_df['norm_pos_x'] = csv_df['norm_pos_x']\n",
    "    results_df['norm_pos_y'] = csv_df['norm_pos_y']\n",
    "    results_df['movement_type'] = 'None'\n",
    "    results_df['smoothed_movement_type'] = 'None'\n",
    "    \n",
    "    # Populating the time field by adding the offset and then subtracting the minimum time to start from 0\n",
    "    results_df['time'] = results_df['gaze_timestamp'] + offset\n",
    "    results_df['time'] -= results_df['time'].min()\n",
    "\n",
    "    # Using rolling mean to smooth the data and to rmeove as many extreme outliers that has been missed by Pupil Export\n",
    "    results_df['smoothed_norm_pos_x'] = results_df['norm_pos_x'].rolling(window).median()\n",
    "    results_df['smoothed_norm_pos_y'] = results_df['norm_pos_y'].rolling(window).median()\n",
    "\n",
    "    # Calculating the angular distance for each x and y position for both smoothed and un-smoothed\n",
    "    results_df['angular_distance'] = calculate_angular_distance(results_df['norm_pos_x'], results_df['norm_pos_y'])\n",
    "    results_df['smoothed_angular_distance'] = calculate_angular_distance(results_df['smoothed_norm_pos_x'], results_df['smoothed_norm_pos_y'])\n",
    "\n",
    "    # Calculating the angular velocity for both smooth and un-smoothed angular distances over time\n",
    "    results_df['angular_velocity'] = calculate_velocity(results_df['angular_distance'], results_df['time'])\n",
    "    results_df['smoothed_angular_velocity'] = calculate_velocity(results_df['smoothed_angular_distance'], results_df['time'])\n",
    "\n",
    "    # Dropping NaN records and the `gaze_timestamp` field\n",
    "    results_df.replace([np.inf, -np.inf], np.nan, inplace=True)\n",
    "    results_df.dropna(inplace=True)\n",
    "    results_df = results_df.drop('gaze_timestamp', axis=1) # Remove the `gaze_timestamp` as that is not needed anymore\n",
    "\n",
    "    return results_df\n",
    "\n",
    "window_size=10\n",
    "offset = obtain_offset(info_player_filePath)\n",
    "gaze_df = obtain_gaze_data(gaze_csv_filePath, window=window_size, offset=offset)\n",
    "print(f'There is a total of {len(gaze_df)} gaze positions')\n"
   ]
  },
  {
   "cell_type": "markdown",
   "metadata": {},
   "source": [
    "### Predicting Smooth Pursuit\n",
    "Smooth pursuit occurs when the eyes tracks an moving object. There is roughly a constant velocity as the angular distance changes slowly, whereas Saccades are almost instant. We choose regions of the line where the change in velocity is under a threshold, and the change of angular distance is small enough to indicate the eyes moving between positions slowly."
   ]
  },
  {
   "cell_type": "code",
   "execution_count": 43,
   "metadata": {},
   "outputs": [
    {
     "name": "stdout",
     "output_type": "stream",
     "text": [
      "Total Smooth Pursuit Movements: 6002\n"
     ]
    }
   ],
   "source": [
    "def predict_smooth_pursuit(df, threshold_velocity=0.2, angular_distance_threshold=2e-4):\n",
    "    pursuit_regions_velocity = np.abs(np.gradient(df['angular_velocity'])) < threshold_velocity\n",
    "    pursuit_regions_distance = np.abs(np.gradient(df['angular_distance'])) > angular_distance_threshold\n",
    "    pursuit_regions = (pursuit_regions_velocity) & (pursuit_regions_distance)\n",
    "    df['movement_type'] = np.where((df['movement_type'] == 'None') & pursuit_regions, 'Smooth Pursuit', df['movement_type'])\n",
    "    \n",
    "    pursuit_regions_smoothed_velocity = np.abs(np.gradient(df['smoothed_angular_velocity'])) < threshold_velocity\n",
    "    pursuit_regions_smoothed_distance = np.abs(np.gradient(df['smoothed_angular_distance'])) > angular_distance_threshold\n",
    "    pursuit_regions_smoothed = (pursuit_regions_smoothed_velocity) & (pursuit_regions_smoothed_distance)\n",
    "    df['smoothed_movement_type'] = np.where((df['smoothed_movement_type'] == 'None') & pursuit_regions_smoothed, 'Smooth Pursuit', df['smoothed_movement_type'])\n",
    "\n",
    "predict_smooth_pursuit(gaze_df)\n",
    "smooth_pursuit = gaze_df[(gaze_df['movement_type'] == 'Smooth Pursuit') | (gaze_df['smoothed_movement_type'] == 'Smooth Pursuit')]\n",
    "print(f'Total Smooth Pursuit Movements: {len(smooth_pursuit)}')"
   ]
  },
  {
   "cell_type": "markdown",
   "metadata": {},
   "source": [
    "### Predicting Saccades\n",
    "Based on the research from https://www.ncbi.nlm.nih.gov/pmc/articles/PMC1190820/pdf/jphysiol00502-0164.pdf, Saccadic Movements have a stereotypical velocity graph where large peaks indicates a fast movement between two points (saccades). These are almost like straight lines between points. We can say that if the velocity between two  points exceeds a threshold, then this is most possibly a saccadic movement."
   ]
  },
  {
   "cell_type": "code",
   "execution_count": 44,
   "metadata": {},
   "outputs": [
    {
     "name": "stdout",
     "output_type": "stream",
     "text": [
      "Total Saccadic Movements: 2602\n"
     ]
    }
   ],
   "source": [
    "def predict_saccades(df, threshold_velocity=0.6):\n",
    "    saccade_regions_high = df['angular_velocity'] > threshold_velocity\n",
    "    accade_regions_low = df['angular_velocity'] < -threshold_velocity\n",
    "    saccade_regions = saccade_regions_high | accade_regions_low\n",
    "    df['movement_type'] = np.where(saccade_regions, 'Saccades', 'None')\n",
    "    \n",
    "    saccade_regions_high = df['smoothed_angular_velocity'] > threshold_velocity\n",
    "    accade_regions_low = df['smoothed_angular_velocity'] < -threshold_velocity\n",
    "    saccade_regions = saccade_regions_high | accade_regions_low\n",
    "    df['smoothed_movement_type'] = np.where((df['smoothed_movement_type'].isin(['None', 'Smooth Pursuit'])) & saccade_regions, 'Saccades', df['smoothed_movement_type'])\n",
    "\n",
    "predict_saccades(gaze_df)\n",
    "saccades = gaze_df[(gaze_df['movement_type'] == 'Saccades') | (gaze_df['smoothed_movement_type'] == 'Saccades')]\n",
    "print(f'Total Saccadic Movements: {len(saccades)}')"
   ]
  },
  {
   "cell_type": "markdown",
   "metadata": {},
   "source": [
    "### Predicting Fixation\n",
    "Fixations are defined as gaze remain fixed around a stationary point. It is not directly fixed but the user gazes around the same point for a long period of time.\n",
    "\n",
    "Pupil Player provides another csv file called `fixations` which identifies the timestamp of when a fixation occurs, and how long it can take. The function `plot_fixation_graph` takes regions starting from whatever second the fixation starts up until the end of the fixation indicated by by the `duration` field."
   ]
  },
  {
   "cell_type": "code",
   "execution_count": 45,
   "metadata": {},
   "outputs": [
    {
     "name": "stdout",
     "output_type": "stream",
     "text": [
      "Total Fixation Movements: 1039\n"
     ]
    }
   ],
   "source": [
    "def predict_fixation(df, offset, time_offset=0.15, filepath='fixations.csv'):\n",
    "    fixations_df = pd.read_csv(filepath)\n",
    "    fixations_df['time'] = fixations_df['start_timestamp'] + offset\n",
    "    fixations_df['time'] -= fixations_df['time'].min()\n",
    "\n",
    "    for _, fixation in fixations_df.iterrows():\n",
    "        start_time = fixation['time']\n",
    "        duration = (fixation['duration'] / 1000.0) - time_offset  # Convert into seconds\n",
    "\n",
    "        # Mark rows within the fixation region as 'Fixation' in both columns\n",
    "        fixation_regions = (df['time'] >= start_time) & (df['time'] <= start_time + duration)\n",
    "        df.loc[fixation_regions, 'movement_type'] = 'Fixation'\n",
    "        df.loc[fixation_regions, 'smoothed_movement_type'] = 'Fixation'\n",
    "\n",
    "predict_fixation(gaze_df, offset, filepath=fixation_filepath)\n",
    "fixation = gaze_df[(gaze_df['movement_type'] == 'Fixation') | (gaze_df['smoothed_movement_type'] == 'Fixation')]\n",
    "print(f'Total Fixation Movements: {len(fixation)}')"
   ]
  },
  {
   "cell_type": "markdown",
   "metadata": {},
   "source": [
    "### Exporting Data\n",
    "To be used for later or with the Visualier, this exports the dataframe and an json containing the offset for annotations"
   ]
  },
  {
   "cell_type": "code",
   "execution_count": 46,
   "metadata": {},
   "outputs": [],
   "source": [
    "# Allows the dataframe to be exported as a csv file of a given name as well as a JSON file that stores the offset if the graph was to be used again\n",
    "def export_gaze_data(df, offset, filename='results'):\n",
    "    df.to_csv(f'{filename}.csv', index=False)\n",
    "    with open('offset.json', 'w') as json_file:\n",
    "        json.dump({'offset':offset}, json_file)\n",
    "\n",
    "filename = 'test'\n",
    "export_gaze_data(gaze_df, offset, filename) # Exporting the dataframe as a csv file"
   ]
  }
 ],
 "metadata": {
  "kernelspec": {
   "display_name": "Python 3",
   "language": "python",
   "name": "python3"
  },
  "language_info": {
   "codemirror_mode": {
    "name": "ipython",
    "version": 3
   },
   "file_extension": ".py",
   "mimetype": "text/x-python",
   "name": "python",
   "nbconvert_exporter": "python",
   "pygments_lexer": "ipython3",
   "version": "3.11.2"
  }
 },
 "nbformat": 4,
 "nbformat_minor": 2
}
