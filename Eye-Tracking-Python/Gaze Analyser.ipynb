{
 "cells": [
  {
   "cell_type": "markdown",
   "metadata": {},
   "source": [
    "# Gaze Analyser\n",
    "This notebook takes in three files taken from the Pupil Recordings you have exported in Pupil Player. These are:\n",
    "- `gaze_positions.csv` (contains raw data in regards to the gaze made throughout the recording)\n",
    "- `info.player.json` (contains system and sync time used to format the recording timestamps)\n",
    "- `fixations.csv` (contains events of where fixations has occured throughout the experiment)\n",
    "- `annotations.csv` (contains annotations created in the experiment used for object interception/spawn, regions of observation, and when the experiment has begin and ended)"
   ]
  },
  {
   "cell_type": "code",
   "execution_count": 17,
   "metadata": {},
   "outputs": [],
   "source": [
    "# Imports\n",
    "import pandas as pd\n",
    "import matplotlib\n",
    "import matplotlib.pyplot as plt\n",
    "import numpy as np\n",
    "import os\n",
    "import json\n",
    "import warnings\n",
    "\n",
    "matplotlib.use('TkAgg')\n",
    "warnings.filterwarnings(\"ignore\", category=RuntimeWarning)\n",
    "\n",
    "# File Paths\n",
    "info_player_filePath = 'experiment_source/info.player.json'\n",
    "gaze_csv_filePath = 'experiment_source/gaze_positions.csv'\n",
    "annotations_filepath = 'experiment_source/annotations.csv'\n",
    "fixation_filepath = 'experiment_source/fixations.csv'\n",
    "\n",
    "# Contrasting Colours\n",
    "CONTRASTING_COLURS = ['#011627', '#2ec4b6', '#e71d36', '#ff9f1c']\n",
    "current_colour_index = 0"
   ]
  },
  {
   "cell_type": "markdown",
   "metadata": {},
   "source": [
    "## Creating the DataFrame from the data"
   ]
  },
  {
   "cell_type": "markdown",
   "metadata": {},
   "source": [
    "Reading the `info.player` JSON to retrieve `start_time_synced_s` and `start_time_system_s`. This is used to format the timestamp correctly to indicate time throughout the experiment:"
   ]
  },
  {
   "cell_type": "code",
   "execution_count": 18,
   "metadata": {},
   "outputs": [],
   "source": [
    "def obtain_offset(filepath):\n",
    "    with open(info_player_filePath, 'r') as file:\n",
    "        data = json.load(file)  \n",
    "    return data.get('start_time_system_s') - data.get('start_time_synced_s')"
   ]
  },
  {
   "cell_type": "markdown",
   "metadata": {},
   "source": [
    "Now, reading the gaze_position.csv file to obtain base data, formating time, calculating smoothed positions, and angular distance and velocity of each timestamp. And removing data that contains infinte or NaN values."
   ]
  },
  {
   "cell_type": "code",
   "execution_count": 19,
   "metadata": {},
   "outputs": [
    {
     "name": "stdout",
     "output_type": "stream",
     "text": [
      "There is a total of 8120 gaze positions\n"
     ]
    }
   ],
   "source": [
    "# Calculate angular distance given Cartesian coordinates (x, y)\n",
    "def calculate_angular_distance(x, y):\n",
    "    return np.arctan2(y, x)\n",
    "\n",
    "# Calculate velocity given angular distance and corresponding timestamps.\n",
    "def calculate_velocity(angular_distance, timestamp):\n",
    "    time_diff = np.diff(timestamp)\n",
    "    angular_distance_diff = np.diff(angular_distance)\n",
    "    velocity = angular_distance_diff / time_diff\n",
    "    return np.concatenate(([np.nan], velocity))\n",
    "\n",
    "\n",
    "# Applies Rolling Medium over the input field, and exports that into the output field\n",
    "def smooth_data(df, input, output, window_size=0):\n",
    "    df[output] = df[input].rolling(window=window_size).median()\n",
    "    return df\n",
    "\n",
    "def obtain_gaze_data(filepath: str, window=10, offset=0):\n",
    "    csv_df = pd.read_csv(filepath)\n",
    "    results_df = pd.DataFrame(columns=['gaze_timestamp',\n",
    "                                       'time',\n",
    "                                       'norm_pos_x', \n",
    "                                       'norm_pos_y', \n",
    "                                       'angular_distance',\n",
    "                                       'angular_velocity',\n",
    "                                       'movement_type',\n",
    "                                       'smoothed_norm_pos_x', \n",
    "                                       'smoothed_norm_pos_y',\n",
    "                                       'smoothed_angular_distance',\n",
    "                                       'smoothed_angular_velocity',\n",
    "                                       'smoothed_movement_type'])\n",
    "\n",
    "    # Copy the data from csv of necessary fields\n",
    "    results_df['gaze_timestamp'] = csv_df['gaze_timestamp']\n",
    "    results_df['norm_pos_x'] = csv_df['norm_pos_x']\n",
    "    results_df['norm_pos_y'] = csv_df['norm_pos_y']\n",
    "    results_df['movement_type'] = 'None'\n",
    "    results_df['smoothed_movement_type'] = 'None'\n",
    "    \n",
    "    # Populating the time field by adding the offset and then subtracting the minimum time to start from 0\n",
    "    results_df['time'] = results_df['gaze_timestamp'] + offset\n",
    "    results_df['time'] -= results_df['time'].min()\n",
    "\n",
    "    # Using rolling mean to smooth the data and to rmeove as many extreme outliers that has been missed by Pupil Export\n",
    "    results_df['smoothed_norm_pos_x'] = results_df['norm_pos_x'].rolling(window).median()\n",
    "    results_df['smoothed_norm_pos_y'] = results_df['norm_pos_y'].rolling(window).median()\n",
    "\n",
    "    # Calculating the angular distance for each x and y position for both smoothed and un-smoothed\n",
    "    results_df['angular_distance'] = calculate_angular_distance(results_df['norm_pos_x'], results_df['norm_pos_y'])\n",
    "    results_df['smoothed_angular_distance'] = calculate_angular_distance(results_df['smoothed_norm_pos_x'], results_df['smoothed_norm_pos_y'])\n",
    "\n",
    "    # Calculating the angular velocity for both smooth and un-smoothed angular distances over time\n",
    "    results_df['angular_velocity'] = calculate_velocity(results_df['angular_distance'], results_df['time'])\n",
    "    results_df['smoothed_angular_velocity'] = calculate_velocity(results_df['smoothed_angular_distance'], results_df['time'])\n",
    "\n",
    "    # Dropping NaN records and the `gaze_timestamp` field\n",
    "    results_df.replace([np.inf, -np.inf], np.nan, inplace=True)\n",
    "    results_df.dropna(inplace=True)\n",
    "    results_df = results_df.drop('gaze_timestamp', axis=1) # Remove the `gaze_timestamp` as that is not needed anymore\n",
    "\n",
    "    return results_df\n",
    "\n",
    "window_size=10\n",
    "offset = obtain_offset(info_player_filePath)\n",
    "gaze_df = obtain_gaze_data(gaze_csv_filePath, window=window_size, offset=offset)\n",
    "print(f'There is a total of {len(gaze_df)} gaze positions')\n"
   ]
  },
  {
   "cell_type": "markdown",
   "metadata": {},
   "source": [
    "### Predicting Smooth Pursuit\n",
    "Smooth pursuit occurs when the eyes tracks an moving object. There is roughly a constant velocity as the angular distance changes slowly, whereas Saccades are almost instant. We choose regions of the line where the change in velocity is under a threshold, and the change of angular distance is small enough to indicate the eyes moving between positions slowly."
   ]
  },
  {
   "cell_type": "code",
   "execution_count": 20,
   "metadata": {},
   "outputs": [
    {
     "name": "stdout",
     "output_type": "stream",
     "text": [
      "Total Smooth Pursuit Movements: 5483\n"
     ]
    }
   ],
   "source": [
    "def predict_smooth_pursuit(df, threshold_velocity=0.2, angular_distance_threshold=2e-4):\n",
    "    pursuit_regions_velocity = np.abs(np.gradient(df['angular_velocity'])) < threshold_velocity\n",
    "    pursuit_regions_distance = np.abs(np.gradient(df['angular_distance'])) > angular_distance_threshold\n",
    "    pursuit_regions = (pursuit_regions_velocity) & (pursuit_regions_distance)\n",
    "    df['movement_type'] = np.where((df['movement_type'] == 'None') & pursuit_regions, 'Smooth Pursuit', df['movement_type'])\n",
    "    \n",
    "    pursuit_regions_smoothed_velocity = np.abs(np.gradient(df['smoothed_angular_velocity'])) < threshold_velocity\n",
    "    pursuit_regions_smoothed_distance = np.abs(np.gradient(df['smoothed_angular_distance'])) > angular_distance_threshold\n",
    "    pursuit_regions_smoothed = (pursuit_regions_smoothed_velocity) & (pursuit_regions_smoothed_distance)\n",
    "    df['smoothed_movement_type'] = np.where((df['smoothed_movement_type'] == 'None') & pursuit_regions_smoothed, 'Smooth Pursuit', df['smoothed_movement_type'])\n",
    "\n",
    "predict_smooth_pursuit(gaze_df, threshold_velocity=0.2, angular_distance_threshold=2e-4)\n",
    "smooth_pursuit = gaze_df[(gaze_df['movement_type'] == 'Smooth Pursuit') | (gaze_df['smoothed_movement_type'] == 'Smooth Pursuit')]\n",
    "print(f'Total Smooth Pursuit Movements: {len(smooth_pursuit)}')"
   ]
  },
  {
   "cell_type": "markdown",
   "metadata": {},
   "source": [
    "### Predicting Saccades\n",
    "Based on the research from https://www.ncbi.nlm.nih.gov/pmc/articles/PMC1190820/pdf/jphysiol00502-0164.pdf, Saccadic Movements have a stereotypical velocity graph where large peaks indicates a fast movement between two points (saccades). These are almost like straight lines between points. We can say that if the velocity between two  points exceeds a threshold, then this is most possibly a saccadic movement."
   ]
  },
  {
   "cell_type": "code",
   "execution_count": 21,
   "metadata": {},
   "outputs": [
    {
     "name": "stdout",
     "output_type": "stream",
     "text": [
      "Total Saccadic Movements: 3143\n"
     ]
    }
   ],
   "source": [
    "def predict_saccades(df, threshold_velocity=0.6):\n",
    "    saccade_regions_high = df['angular_velocity'] > threshold_velocity\n",
    "    accade_regions_low = df['angular_velocity'] < -threshold_velocity\n",
    "    saccade_regions = saccade_regions_high | accade_regions_low\n",
    "    df['movement_type'] = np.where(saccade_regions, 'Saccades', 'None')\n",
    "    \n",
    "    saccade_regions_high = df['smoothed_angular_velocity'] > threshold_velocity\n",
    "    accade_regions_low = df['smoothed_angular_velocity'] < -threshold_velocity\n",
    "    saccade_regions = saccade_regions_high | accade_regions_low\n",
    "    df['smoothed_movement_type'] = np.where((df['smoothed_movement_type'].isin(['None', 'Smooth Pursuit'])) & saccade_regions, 'Saccades', df['smoothed_movement_type'])\n",
    "\n",
    "predict_saccades(gaze_df, threshold_velocity=0.6)\n",
    "saccades = gaze_df[(gaze_df['movement_type'] == 'Saccades') | (gaze_df['smoothed_movement_type'] == 'Saccades')]\n",
    "print(f'Total Saccadic Movements: {len(saccades)}')"
   ]
  },
  {
   "cell_type": "markdown",
   "metadata": {},
   "source": [
    "### Predicting Fixation\n",
    "Fixations are defined as gaze remain fixed around a stationary point. It is not directly fixed but the user gazes around the same point for a long period of time.\n",
    "\n",
    "Pupil Player provides another csv file called `fixations` which identifies the timestamp of when a fixation occurs, and how long it can take. The function `plot_fixation_graph` takes regions starting from whatever second the fixation starts up until the end of the fixation indicated by by the `duration` field."
   ]
  },
  {
   "cell_type": "code",
   "execution_count": 22,
   "metadata": {},
   "outputs": [
    {
     "name": "stdout",
     "output_type": "stream",
     "text": [
      "Total Fixation Movements: 1988\n"
     ]
    }
   ],
   "source": [
    "def predict_fixation(df, offset, time_offset=0, filepath='fixations.csv'):\n",
    "    fixations_df = pd.read_csv(filepath)\n",
    "    fixations_df['time'] = fixations_df['start_timestamp'] + offset\n",
    "    fixations_df['time'] -= fixations_df['time'].min()\n",
    "\n",
    "    for _, fixation in fixations_df.iterrows():\n",
    "        start_time = fixation['time']\n",
    "        duration = (fixation['duration'] / 1000.0) - time_offset  # Convert into seconds\n",
    "\n",
    "        # Mark rows within the fixation region as 'Fixation' in both columns\n",
    "        fixation_regions = (df['time'] >= start_time) & (df['time'] <= start_time + duration)\n",
    "        df.loc[fixation_regions, 'movement_type'] = 'Fixation'\n",
    "        df.loc[fixation_regions, 'smoothed_movement_type'] = 'Fixation'\n",
    "\n",
    "predict_fixation(gaze_df, offset, time_offset=0.1, filepath=fixation_filepath)\n",
    "fixation = gaze_df[(gaze_df['movement_type'] == 'Fixation') | (gaze_df['smoothed_movement_type'] == 'Fixation')]\n",
    "print(f'Total Fixation Movements: {len(fixation)}')"
   ]
  },
  {
   "cell_type": "markdown",
   "metadata": {},
   "source": [
    "## Incorporating Annotations\n",
    "Using the annotation.csv file, we want to generate new csv files that contains the following: object information, regions of observation, and experiment start/end"
   ]
  },
  {
   "cell_type": "code",
   "execution_count": 23,
   "metadata": {},
   "outputs": [
    {
     "name": "stderr",
     "output_type": "stream",
     "text": [
      "C:\\Users\\jhund\\AppData\\Local\\Temp\\ipykernel_8964\\1732076432.py:48: FutureWarning: The behavior of DataFrame concatenation with empty or all-NA entries is deprecated. In a future version, this will no longer exclude empty or all-NA columns when determining the result dtypes. To retain the old behavior, exclude the relevant entries before the concat operation.\n",
      "  regions_df = pd.concat([regions_df, pd.DataFrame({'id': [current_obj_id], 'start_time': [start_time], 'end_time': [end_time]})], ignore_index=True)\n"
     ]
    }
   ],
   "source": [
    "def analyse_annotations(annotations_csv_filepath, offset, fill_threshold=1):\n",
    "    # This works through the the annotation and finds the following:\n",
    "    # What object each data point is looking at\n",
    "    # When an object spawns and intercepted\n",
    "\n",
    "    # Group every spawn and interception into a single record (not all spawn may have an interception), could group by object ID?\n",
    "    annotations_df = pd.read_csv(annotations_csv_filepath)\n",
    "    \n",
    "    # Format the timestamp into time relative to the experiment\n",
    "    annotations_df['time'] = annotations_df['timestamp'] + offset\n",
    "    annotations_df['time'] -= annotations_df['time'].min()\n",
    "\n",
    "    # Filter only the data that contains 'Intercepted' or 'Spawning'.\n",
    "    # Each object has their own spawning and interception time, could create records of these two\n",
    "    # We can utilise this data as our own way to simplify the visualising and also finding TTC\n",
    "\n",
    "    # Filter rows with 'Intercepted' or 'Spawning' label\n",
    "    object_annotations = annotations_df[annotations_df['label'].isin(['Intercepted', 'Spawning'])]\n",
    "    # objects_df = object_annotations.pivot_table(index='id', columns='label', values=['time', 'ObjectSpeed'])\n",
    "    objects_df = object_annotations.pivot_table(index='id', columns='label', values=['time', 'ObjectSpeed'])\n",
    "    objects_df.reset_index(inplace=True)\n",
    "\n",
    "    # If any object does not have both 'Spawning' and 'Intercepted' events, fill NaN with appropriate values\n",
    "    objects_df.fillna({'spawning_timestamp': pd.NaT, 'intercepted_timestamp': pd.NaT}, inplace=True)\n",
    "\n",
    "    # Now, create a new dataframe which stores when a user is looking at a specific region\n",
    "    # Obtains all records with the 'Looking At' label\n",
    "    looking_at_df = annotations_df[annotations_df['label'].isin(['Looking At'])]\n",
    "\n",
    "    # Initialise an empty DataFrame to store regions\n",
    "    regions_df = pd.DataFrame(columns=['id', 'start_time', 'end_time'])\n",
    "\n",
    "    # Initialise variables for tracking consecutive points\n",
    "    current_obj_id = None\n",
    "    start_time = None\n",
    "\n",
    "    # Iterate through each row in the 'Looking At' dataframe\n",
    "    for _, row in looking_at_df.iterrows():\n",
    "        obj_id = row['id']\n",
    "        timestamp = row['time']\n",
    "\n",
    "        # Check if it's the same object and within the threshold seconds\n",
    "        if obj_id == current_obj_id and start_time is not None and timestamp - start_time <= fill_threshold: \n",
    "            end_time = timestamp # Update the end time for the current region\n",
    "        else:\n",
    "            # A new region is created when the next ID does not match the current region's ID OR if the time between two points is greater than the threshold (indicating it's a new region for the same ID)\n",
    "            if current_obj_id is not None and start_time is not None:\n",
    "                regions_df = pd.concat([regions_df, pd.DataFrame({'id': [current_obj_id], 'start_time': [start_time], 'end_time': [end_time]})], ignore_index=True)\n",
    "\n",
    "            # Update tracking variables for the next iteration\n",
    "            current_obj_id = obj_id\n",
    "            start_time = timestamp\n",
    "            end_time = timestamp\n",
    "\n",
    "    # Add the last region after the loop\n",
    "    if current_obj_id is not None and start_time is not None:\n",
    "        regions_df = pd.concat([regions_df, pd.DataFrame({'id': [current_obj_id], 'start_time': [start_time], 'end_time': [end_time]})], ignore_index=True)\n",
    "\n",
    "    # May want to include the Experiment Start and End lines as a JSON\n",
    "    start_time = annotations_df.loc[(annotations_df['label'] == 'Experiment Started'), 'time'].values\n",
    "    end_time = annotations_df.loc[(annotations_df['label'] == 'Experiment Ended'), 'time'].values\n",
    "\n",
    "    experiment_info = {\n",
    "        'Start': start_time.item(),\n",
    "        'End': end_time.item()\n",
    "    }\n",
    "\n",
    "    return objects_df, regions_df, experiment_info\n",
    "\n",
    "objects_df, regions_df, experiment_info = analyse_annotations(annotations_filepath, offset)"
   ]
  },
  {
   "cell_type": "markdown",
   "metadata": {},
   "source": [
    "### Finding TTC per interception\n",
    "This function only works if we have incorporated the annotation as we need the interception that has been made. This iterates through each interceptiom find all the points that falls below the time that interception has been made and take the most recent saccadic movement to calculate the Time-To-Contact by taking the difference between\n"
   ]
  },
  {
   "cell_type": "code",
   "execution_count": 25,
   "metadata": {},
   "outputs": [],
   "source": [
    "def find_TTC(gaze_df, objects_df):\n",
    "    results = []\n",
    "\n",
    "    for index, row in objects_df.iterrows():\n",
    "        # Extract the 'Intercepted' time\n",
    "        intercepted_time = row['time']['Intercepted']\n",
    "        object_speed = row['ObjectSpeed']['Spawning']\n",
    "        # Filter gaze_df based on the condition where 'time' is less than the intercepted_time\n",
    "        filtered_gaze_df = gaze_df[gaze_df['time'] < intercepted_time]\n",
    "\n",
    "        # Obtain all the records where the movement type is Saccades\n",
    "        smoothed_saccadic_gaze_df = filtered_gaze_df[filtered_gaze_df['smoothed_movement_type'] == \"Saccades\"]\n",
    "        saccadic_gaze_df = filtered_gaze_df[filtered_gaze_df['movement_type'] == \"Saccades\"]\n",
    "\n",
    "        # Obtains the latest saccadic movement before the intercepted time\n",
    "        recent_saccade = saccadic_gaze_df['time'].max()\n",
    "        smoothed_recent_saccade = smoothed_saccadic_gaze_df['time'].max()\n",
    "\n",
    "\n",
    "        # Calculate the saccadic movement before the interception was made which is the difference between latest saccade and interception\n",
    "        time_to_contact = intercepted_time - recent_saccade\n",
    "        smooth_time_to_contact = intercepted_time - smoothed_recent_saccade\n",
    "\n",
    "        results.append({\n",
    "            'Object ID': index+1, \n",
    "            'Object Speed': object_speed,\n",
    "            'Interception': intercepted_time, \n",
    "            'Recent Saccade': recent_saccade, \n",
    "            'Time to Contact': time_to_contact,\n",
    "            'Smoothed Recent Saccade': smoothed_recent_saccade,\n",
    "            'Smoothed Time to Contact': smooth_time_to_contact})\n",
    "\n",
    "    results_df = pd.DataFrame(results)\n",
    "    return results_df\n",
    "\n",
    "ttc_df = find_TTC(gaze_df, objects_df)\n",
    "print(ttc_df)"
   ]
  },
  {
   "cell_type": "markdown",
   "metadata": {},
   "source": [
    "## Exporting Data\n",
    "To be used for later or with the Visualier, this exports the dataframe and an json containing the offset for annotations"
   ]
  },
  {
   "cell_type": "code",
   "execution_count": 27,
   "metadata": {},
   "outputs": [],
   "source": [
    "# Allows the dataframe to be exported as a csv file of a given name as well as a JSON file that stores the offset if the graph was to be used again\n",
    "def export_gaze_data(gaze, objects, regions, ttc, experiment_info):\n",
    "    \n",
    "    output_directory = 'analysed_output'\n",
    "    if not os.path.exists(output_directory):\n",
    "        os.makedirs(output_directory)\n",
    "\n",
    "    output_directory = 'visualise_source'\n",
    "    if not os.path.exists(output_directory):\n",
    "        os.makedirs(output_directory)\n",
    "\n",
    "    # Saves a copy into the analysed output\n",
    "    gaze.to_csv(f'analysed_output/gaze.csv', index=False)\n",
    "    objects.to_csv(f'analysed_output/objects.csv', index=False)\n",
    "    regions.to_csv(f'analysed_output/regions.csv', index=False)\n",
    "    ttc.to_csv(f'analysed_output/ttc.csv', index=False)\n",
    "\n",
    "    with open('analysed_output/experiment_info.json', 'w') as json_file:\n",
    "        json.dump(experiment_info, json_file)\n",
    "\n",
    "    # Saves another copy into the visualise_source \n",
    "    gaze.to_csv(f'visualise_source/gaze.csv', index=False)\n",
    "    objects.to_csv(f'visualise_source/objects.csv', index=False)\n",
    "    regions.to_csv(f'visualise_source/regions.csv', index=False)\n",
    "    ttc.to_csv(f'visualise_source/ttc.csv', index=False)\n",
    "\n",
    "    with open('visualise_source/experiment_info.json', 'w') as json_file:\n",
    "        json.dump(experiment_info, json_file)\n",
    "\n",
    "# export_gaze_data(gaze_df, objects_df, regions_df, ttc_df, experiment_info) # Exporting the dataframe as a csv file"
   ]
  },
  {
   "cell_type": "markdown",
   "metadata": {},
   "source": [
    "# Gaze Visualiser\n",
    "This part of the notebook takes in the exported data from the gaze analyser and displays them as an interactive graph to closely interpret the data. This uses the following files:\n",
    "- `gaze.csv`\n",
    "- `objects.csv`\n",
    "- `regions.csv`\n",
    "- `experiment_info.json`"
   ]
  },
  {
   "cell_type": "code",
   "execution_count": null,
   "metadata": {},
   "outputs": [],
   "source": [
    "# Imports\n",
    "import pandas as pd\n",
    "import matplotlib\n",
    "import matplotlib.pyplot as plt\n",
    "import numpy as np\n",
    "import json\n",
    "import warnings\n",
    "\n",
    "matplotlib.use('TkAgg')\n",
    "warnings.filterwarnings(\"ignore\", category=RuntimeWarning)\n",
    "\n",
    "# File Paths\n",
    "regions_filepath = 'analysed_output/regions.csv'\n",
    "gaze_filepath = 'analysed_output/gaze.csv'\n",
    "objects_filepath = 'analysed_output/objects.csv'\n",
    "experiment_info_filepath = 'analysed_output/experiment_info.json'\n",
    "\n",
    "\n",
    "# Contrasting Colours\n",
    "CONTRASTING_COLURS = ['#011627', '#2ec4b6', '#e71d36', '#ff9f1c']\n",
    "current_colour_index = 0"
   ]
  },
  {
   "cell_type": "markdown",
   "metadata": {},
   "source": [
    "Reading the CSV files as dataframes, and the experiment information a dictionary:"
   ]
  },
  {
   "cell_type": "code",
   "execution_count": 29,
   "metadata": {},
   "outputs": [
    {
     "data": {
      "text/plain": [
       "(           time  norm_pos_x  norm_pos_y  angular_distance  angular_velocity  \\\n",
       " 10     0.043282    0.484021    0.712268          0.973929          0.169430   \n",
       " 11     0.045211    0.484960    0.710935          0.972155         -0.919220   \n",
       " 12     0.048641    0.484169    0.710024          0.972318          0.047418   \n",
       " 13     0.052613    0.483359    0.709845          0.972980          0.166587   \n",
       " 14     0.055943    0.483057    0.712595          0.975068          0.627169   \n",
       " ...         ...         ...         ...               ...               ...   \n",
       " 8125  35.496085    0.469808    0.621914          0.923834          0.033497   \n",
       " 8126  35.499873    0.470355    0.621158          0.922689         -0.302278   \n",
       " 8127  35.503833    0.469417    0.621340          0.923790          0.278163   \n",
       " 8128  35.507982    0.469544    0.621892          0.924087          0.071546   \n",
       " 8129  35.511993    0.468751    0.624212          0.926688          0.648519   \n",
       " \n",
       "      movement_type  smoothed_norm_pos_x  smoothed_norm_pos_y  \\\n",
       " 10        Fixation             0.486132             0.714200   \n",
       " 11        Fixation             0.486062             0.713796   \n",
       " 12        Fixation             0.486044             0.713525   \n",
       " 13        Fixation             0.485648             0.713525   \n",
       " 14        Fixation             0.485111             0.712859   \n",
       " ...            ...                  ...                  ...   \n",
       " 8125          None             0.469859             0.622630   \n",
       " 8126          None             0.469934             0.622415   \n",
       " 8127          None             0.469906             0.622240   \n",
       " 8128          None             0.469715             0.622202   \n",
       " 8129      Saccades             0.469620             0.622202   \n",
       " \n",
       "       smoothed_angular_distance  smoothed_angular_velocity  \\\n",
       " 10                     0.973164                  -0.053099   \n",
       " 11                     0.972968                  -0.101590   \n",
       " 12                     0.972808                  -0.046572   \n",
       " 13                     0.973188                   0.095580   \n",
       " 14                     0.973268                   0.024024   \n",
       " ...                         ...                        ...   \n",
       " 8125                   0.924335                   0.019443   \n",
       " 8126                   0.924092                  -0.064048   \n",
       " 8127                   0.923985                  -0.027212   \n",
       " 8128                   0.924151                   0.040115   \n",
       " 8129                   0.924249                   0.024396   \n",
       " \n",
       "      smoothed_movement_type  \n",
       " 10                 Fixation  \n",
       " 11                 Fixation  \n",
       " 12                 Fixation  \n",
       " 13                 Fixation  \n",
       " 14                 Fixation  \n",
       " ...                     ...  \n",
       " 8125                   None  \n",
       " 8126                   None  \n",
       " 8127                   None  \n",
       " 8128                   None  \n",
       " 8129                   None  \n",
       " \n",
       " [8120 rows x 11 columns],\n",
       "          id        time           \n",
       " label       Intercepted   Spawning\n",
       " 0       1.0    4.770454   4.009529\n",
       " 1       2.0    6.422005   5.523735\n",
       " 2       3.0    7.775230   7.032219\n",
       " 3       4.0    9.355545   8.535416\n",
       " 4       5.0   10.585114  10.040848\n",
       " 5       6.0   12.213669  11.550964\n",
       " 6       7.0   14.077393  13.072449\n",
       " 7       8.0   15.338135  14.581451\n",
       " 8       9.0   16.683762  16.084534\n",
       " 9      10.0   18.313919  17.589050\n",
       " 10     11.0   19.664337  19.104889\n",
       " 11     12.0   21.593063  20.603439\n",
       " 12     13.0   22.718735  22.104263\n",
       " 13     14.0   24.458557  23.609360\n",
       " 14     15.0   26.056213  25.117020,\n",
       "       id  start_time   end_time\n",
       " 0    1.0    4.505486   4.992760\n",
       " 1    2.0    5.702591   6.421700\n",
       " 2    3.0    7.317757   7.705978\n",
       " 3    4.0    8.844330   9.531418\n",
       " 4    6.0   11.907623  12.455063\n",
       " 5    7.0   13.530243  14.354416\n",
       " 6    8.0   15.065567  15.065567\n",
       " 7    9.0   16.232666  16.566711\n",
       " 8   11.0   19.174896  19.229370\n",
       " 9   12.0   20.914520  21.847565\n",
       " 10  13.0   22.467484  22.529083\n",
       " 11  14.0   24.282013  24.398438\n",
       " 12  15.0   25.542252  26.022522,\n",
       " {'Start': 4.006622314453125, 'End': 31.6239013671875})"
      ]
     },
     "execution_count": 29,
     "metadata": {},
     "output_type": "execute_result"
    }
   ],
   "source": [
    "def open_files(gaze, objects, regions, ttc, experiment_info):\n",
    "    gaze_df = pd.read_csv(gaze)\n",
    "    objects_df = pd.read_csv(objects)\n",
    "    regions_df = pd.read_csv(regions)\n",
    "    ttc_df = pd.read_csv(ttc)\n",
    "    with open(experiment_info, 'r') as file:\n",
    "        data = json.load(file)\n",
    "        exp_info = {\n",
    "            'Start': data.get('Start'),\n",
    "            'End': data.get('End')\n",
    "        }\n",
    "\n",
    "    return gaze_df, objects_df, regions_df, ttc_df, exp_info\n",
    "\n",
    "gaze_df, objects_df, regions_df, experiment_info\n",
    "\n",
    "gaze, objects, regions, exp_info, ttc_df = gaze_df, objects_df, regions_df, experiment_info, ttc_df"
   ]
  },
  {
   "cell_type": "markdown",
   "metadata": {},
   "source": [
    "## Plot TTC\n",
    "Takes the object speed, and plots the TTC values "
   ]
  },
  {
   "cell_type": "code",
   "execution_count": null,
   "metadata": {},
   "outputs": [],
   "source": [
    "def plot_ttc(ttc_df):\n",
    "    plt.figure(figsize=(10, 6))\n",
    "    plt.plot(ttc_df['Time to Contact'], ttc_df['Object Speed'])\n",
    "    plt.title('Object Speed vs Time to Contact')\n",
    "    plt.xlabel('Object Speed')\n",
    "    plt.ylabel('Time to Contact')\n",
    "    plt.grid(True)\n",
    "    plt.show()\n",
    "\n",
    "plot_ttc(ttc_df)"
   ]
  },
  {
   "cell_type": "markdown",
   "metadata": {},
   "source": [
    "## Displaying Gaze Positions\n",
    "This is to visualise the difference smoothed and unsmoothed version of `norm_pos_x` and  `norm_pos_y`:"
   ]
  },
  {
   "cell_type": "code",
   "execution_count": 31,
   "metadata": {},
   "outputs": [],
   "source": [
    "def plot_norm_positions(df):\n",
    "    fig, axs = plt.subplots(1, 2, figsize=(15, 6))\n",
    "    axs[0].plot(df['time'], df['norm_pos_x'], label='Original norm_pos_x')\n",
    "    axs[0].plot(df['time'], df['smoothed_norm_pos_x'], label=f'Smoothed norm_pos_x (window={10})', linestyle='--')\n",
    "    axs[0].set_title('Norm_pos_x')\n",
    "\n",
    "    axs[1].plot(df['time'], df['norm_pos_y'], label='Original norm_pos_y')\n",
    "    axs[1].plot(df['time'], df['smoothed_norm_pos_y'], label=f'Smoothed norm_pos_y (window={10})', linestyle='--')\n",
    "    axs[1].set_title('Norm_pos_y')\n",
    "\n",
    "    for ax in axs:\n",
    "        ax.set_xlabel('Time (s)')\n",
    "        ax.set_ylabel('Position')\n",
    "        ax.legend()\n",
    "    fig.show()\n",
    "\n",
    "plot_norm_positions(gaze_df)"
   ]
  },
  {
   "cell_type": "markdown",
   "metadata": {},
   "source": [
    "## Plotting the interception graph\n",
    "The following functions looks at taking each of the dataframe, and plotting the graph according to using smoothed or unsmoothed positions."
   ]
  },
  {
   "cell_type": "markdown",
   "metadata": {},
   "source": [
    "### Angular Distance agaisnt Time Graph\n",
    "The first graph plots the main graph that acts as the basis representation for gaze positions:"
   ]
  },
  {
   "cell_type": "code",
   "execution_count": null,
   "metadata": {},
   "outputs": [],
   "source": [
    "def plot_angular_distance(fig, ax, df, use_smooth=True, show_both=False):\n",
    "\n",
    "    if show_both:\n",
    "        ax.plot(df['time'], df['angular_distance'], label='Gaze Angular Distance',)\n",
    "        ax.plot(df['time'], df['smoothed_angular_distance'], label=f'Angular Distance', linestyle='--')\n",
    "    else:\n",
    "        if use_smooth:\n",
    "            ax.plot(df['time'], df['smoothed_angular_distance'], label=f'Angular Distance', color='orange')\n",
    "        else:\n",
    "            ax.plot(df['time'], df['angular_distance'], label='Gaze Angular Distance', color='orange')\n",
    "\n",
    "    ax.set_xlabel('Time (s)')\n",
    "    ax.set_ylabel('Angular Distance (rad)', color='black')\n",
    "    ax.legend(loc='lower right')\n",
    "    fig.suptitle('Interception Experiment')\n",
    "    fig.tight_layout()\n",
    "\n",
    "# plot_angular_distance(figure, ax, gaze)"
   ]
  },
  {
   "cell_type": "markdown",
   "metadata": {},
   "source": [
    "## Visualising Eye Movements\n",
    "Within the dataframe, there is a field called `movement_type` where we identify which one of the three eye movements (Saccade, Fixations, and Smooth Pursuit) base on velocities and provided csv file from Pupil Lab."
   ]
  },
  {
   "cell_type": "markdown",
   "metadata": {},
   "source": [
    "### Regions of Saccades"
   ]
  },
  {
   "cell_type": "code",
   "execution_count": null,
   "metadata": {},
   "outputs": [],
   "source": [
    "def plot_saccades(ax, df, use_smooth=False):\n",
    "    if use_smooth:\n",
    "        source_distance = 'smoothed_angular_distance'\n",
    "        movement_type= 'smoothed_movement_type'\n",
    "    else:\n",
    "        source_distance = 'angular_distance'\n",
    "        movement_type = 'movement_type'\n",
    "\n",
    "    distances = df[source_distance]\n",
    "    saccade_regions = df[movement_type] == 'Saccades'\n",
    "\n",
    "    ax.plot(df['time'], np.where(saccade_regions, distances, np.nan), color='red', label='Saccade Line')\n",
    "    ax.legend(loc='lower right')"
   ]
  },
  {
   "cell_type": "markdown",
   "metadata": {},
   "source": [
    "### Regions of Smooth Pursuit"
   ]
  },
  {
   "cell_type": "code",
   "execution_count": null,
   "metadata": {},
   "outputs": [],
   "source": [
    "def plot_smooth_pursuits(ax, df, use_smooth=False):\n",
    "    if use_smooth:\n",
    "        source_distance = 'smoothed_angular_distance'\n",
    "        movement_type_column = 'smoothed_movement_type'\n",
    "    else:\n",
    "        source_distance = 'angular_distance'\n",
    "        movement_type_column = 'movement_type'\n",
    "\n",
    "    distances = df[source_distance]\n",
    "    smooth_pursuit_regions = df[movement_type_column] == 'Smooth Pursuit'\n",
    "\n",
    "    # Plot for Smooth Pursuit Data\n",
    "    ax.plot(df['time'], np.where(smooth_pursuit_regions, distances, np.nan), color='green', label='Smooth Pursuit')\n",
    "    ax.legend(loc='upper left')"
   ]
  },
  {
   "cell_type": "markdown",
   "metadata": {},
   "source": [
    "### Regions of Fixation"
   ]
  },
  {
   "cell_type": "code",
   "execution_count": null,
   "metadata": {},
   "outputs": [],
   "source": [
    "def plot_fixations(ax, df, use_smooth=False):\n",
    "    if use_smooth:\n",
    "        source_distance = 'smoothed_angular_distance'\n",
    "        movement_type= 'smoothed_movement_type'\n",
    "    else:\n",
    "        source_distance = 'angular_distance'\n",
    "        movement_type = 'movement_type'\n",
    "\n",
    "    distances = df[source_distance]\n",
    "    fixation_regions = df[movement_type] == 'Fixation'\n",
    "\n",
    "    ax.plot(df['time'], np.where(fixation_regions, distances, np.nan), color='blue', label='Fixation')\n",
    "    ax.legend(loc='lower right')"
   ]
  },
  {
   "cell_type": "markdown",
   "metadata": {},
   "source": [
    "### Combining the identification function:\n",
    "This would combine each of the function and allow the user control on what they wish to present on the graph"
   ]
  },
  {
   "cell_type": "code",
   "execution_count": null,
   "metadata": {},
   "outputs": [],
   "source": [
    "def plot_data(figure, ax, gaze_df, use_smooth=True, fixations=False, smooth_pursuits=False, saccades=False):\n",
    "    plot_angular_distance(figure, ax, gaze_df, use_smooth=use_smooth)\n",
    "    if fixations:\n",
    "        plot_fixations(ax, gaze_df, use_smooth=use_smooth)\n",
    "    \n",
    "    if smooth_pursuits:\n",
    "        plot_smooth_pursuits(ax, gaze_df, use_smooth=use_smooth)\n",
    "\n",
    "    if saccades:\n",
    "        plot_saccades(ax, gaze_df, use_smooth=use_smooth)\n",
    "\n",
    "    return figure, ax"
   ]
  },
  {
   "cell_type": "markdown",
   "metadata": {},
   "source": [
    "### Visualising annotations\n",
    "Annotations consists of multiple types. These are: Spawning, Intercepted, Looking At, Experiment End/Start. To simplify this approach, the analyser exports two files `regions.csv` and `objects.csv` which already has information which lets us display the regions and object information on the graph:"
   ]
  },
  {
   "cell_type": "markdown",
   "metadata": {},
   "source": [
    "#### Adjusting and showing experiment start/end\n",
    "Due to the recording starting before the experiment starts and delays before ending the experiment, we want to indicate which part of the graph is most relevant at first"
   ]
  },
  {
   "cell_type": "code",
   "execution_count": null,
   "metadata": {},
   "outputs": [],
   "source": [
    "def plot_experiment_lines(ax, experiment_info):\n",
    "    start = experiment_info['Start']\n",
    "    end = experiment_info['End']\n",
    "    ax.axvline(x=start, color='black', linestyle='--')\n",
    "    ax.axvline(x=end, color='black', linestyle='--')\n",
    "    ax.set_xlim(start, end) # Adjust the graph to display between the lines when the graph appears"
   ]
  },
  {
   "cell_type": "markdown",
   "metadata": {},
   "source": [
    "#### Representing Objects\n",
    "To represent objects, each has been assigned a HEX code for a colour. They have been chosen as adjacent colours are contrasting for easy visualisation and avoid generating colours that might be close to each other:\n"
   ]
  },
  {
   "cell_type": "code",
   "execution_count": null,
   "metadata": {},
   "outputs": [],
   "source": [
    "def choose_colour():\n",
    "    global current_colour_index\n",
    "    colour = CONTRASTING_COLURS[current_colour_index] # Gets the colour in the current index\n",
    "    current_colour_index = (current_colour_index + 1) % len(CONTRASTING_COLURS) # Increments the current index\n",
    "    return colour"
   ]
  },
  {
   "cell_type": "code",
   "execution_count": null,
   "metadata": {},
   "outputs": [],
   "source": [
    "def assign_colour(objects_df):\n",
    "    object_colours = {}\n",
    "    for _, row in objects_df.iterrows():\n",
    "        object_id = int(row['id'])\n",
    "        object_colours[object_id] = choose_colour()\n",
    "        # print(f'{object_id} with colour {object_colours[object_id]}')\n",
    "    return object_colours\n",
    "\n",
    "# object_colours = assign_colour(objects)"
   ]
  },
  {
   "cell_type": "markdown",
   "metadata": {},
   "source": [
    "Once each object has been given a colour, we can start plotting the regions of observation, and spawn/intercept lines"
   ]
  },
  {
   "cell_type": "code",
   "execution_count": null,
   "metadata": {},
   "outputs": [],
   "source": [
    "def plot_objectLines(ax, objects_df, object_colours):\n",
    "    for _, row in objects_df.iterrows():\n",
    "\n",
    "        object_id = row['id']\n",
    "        line_colour = object_colours[object_id]\n",
    "\n",
    "        spawn_time = row['Spawning']\n",
    "        ax.axvline(x=spawn_time, color=line_colour, linestyle='--', alpha=0.7)\n",
    "        ax.text(spawn_time, ax.get_ylim()[0] + 0.02, f'Spawned {object_id} at {spawn_time:.2f}', rotation=90, va='bottom', ha='right', color='black')\n",
    "\n",
    "        intercepted_time = row['Intercepted']\n",
    "        if row['Intercepted'] != pd.NaT:\n",
    "            ax.axvline(x=intercepted_time, color=line_colour, linestyle='--', alpha=0.7)\n",
    "            ax.text(intercepted_time, ax.get_ylim()[1] - 0.02, f'Intercepted {object_id} at {intercepted_time:.2f}', rotation=90, va='top', ha='right', color='black')\n",
    "\n",
    "# plot_objectLines(ax, objects, object_colours)"
   ]
  },
  {
   "cell_type": "markdown",
   "metadata": {},
   "source": [
    "Plotting the observation across the experiment as regions on the graph"
   ]
  },
  {
   "cell_type": "code",
   "execution_count": null,
   "metadata": {},
   "outputs": [],
   "source": [
    "def plot_observations(ax, regions_df, object_colours):\n",
    "    for _, row in regions_df.iterrows():\n",
    "        object_id = row['id']\n",
    "        colour = object_colours[object_id]\n",
    "        start = row['start_time']\n",
    "        end = row['end_time']\n",
    "\n",
    "        ax.axvspan(start, end, color=colour, alpha=0.2)\n",
    "\n",
    "# plot_observations(ax, regions, object_colours)"
   ]
  },
  {
   "cell_type": "markdown",
   "metadata": {},
   "source": [
    "#### Combined Annotation functions\n",
    "This function combines all the annotation related files"
   ]
  },
  {
   "cell_type": "code",
   "execution_count": null,
   "metadata": {},
   "outputs": [],
   "source": [
    "def plot_annotations(ax, regions_df, objects_df, experiment_info):\n",
    "    object_colours = assign_colour(objects_df)\n",
    "    plot_experiment_lines(ax, experiment_info)\n",
    "    plot_objectLines(ax, objects_df, object_colours)\n",
    "    plot_observations(ax, regions_df, object_colours)"
   ]
  },
  {
   "cell_type": "markdown",
   "metadata": {},
   "source": [
    "## Displaying the graph"
   ]
  },
  {
   "cell_type": "code",
   "execution_count": null,
   "metadata": {},
   "outputs": [],
   "source": [
    "figure, ax = plt.subplots(figsize=(16, 8))\n",
    "\n",
    "plot_data(figure, ax, gaze, use_smooth=True, fixations=True, smooth_pursuits=True, saccades=True)\n",
    "plot_annotations(ax, regions, objects, exp_info)\n",
    "\n",
    "figure.show()"
   ]
  }
 ],
 "metadata": {
  "kernelspec": {
   "display_name": "Python 3",
   "language": "python",
   "name": "python3"
  },
  "language_info": {
   "codemirror_mode": {
    "name": "ipython",
    "version": 3
   },
   "file_extension": ".py",
   "mimetype": "text/x-python",
   "name": "python",
   "nbconvert_exporter": "python",
   "pygments_lexer": "ipython3",
   "version": "3.11.2"
  }
 },
 "nbformat": 4,
 "nbformat_minor": 2
}
