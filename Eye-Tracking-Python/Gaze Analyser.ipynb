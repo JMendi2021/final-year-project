{
 "cells": [
  {
   "cell_type": "markdown",
   "metadata": {},
   "source": [
    "# Gaze Interception\n",
    "This notebook takes in three files taken from the Pupil Recordings you have exported in Pupil Player. These are:\n",
    "- `gaze_positions.csv` (contains raw data in regards to the gaze made throughout the recording)\n",
    "- `info.player.json` (contains system and sync time used to format the recording timestamps)"
   ]
  },
  {
   "cell_type": "code",
   "execution_count": 17,
   "metadata": {},
   "outputs": [],
   "source": [
    "# Imports\n",
    "import pandas as pd\n",
    "import matplotlib\n",
    "import matplotlib.pyplot as plt\n",
    "import numpy as np\n",
    "import random\n",
    "import json\n",
    "import warnings\n",
    "\n",
    "matplotlib.use('TkAgg')\n",
    "warnings.filterwarnings(\"ignore\", category=RuntimeWarning)\n",
    "\n",
    "# File Paths\n",
    "info_player_filePath = 'source/info.player.json'\n",
    "gaze_csv_filePath = 'source/gaze_positions.csv'\n",
    "annotations_filepath = 'source/annotations.csv'\n",
    "fixation_filepath = 'source/fixations.csv'"
   ]
  },
  {
   "cell_type": "markdown",
   "metadata": {},
   "source": [
    "# Creating the DataFrame for the data"
   ]
  },
  {
   "cell_type": "markdown",
   "metadata": {},
   "source": [
    "Reading the `info.player` JSON to retrieve `start_time_synced_s` and `start_time_system_s`. This is used to format the timestamp correctly to indicate time throughout the experiment:"
   ]
  },
  {
   "cell_type": "code",
   "execution_count": 18,
   "metadata": {},
   "outputs": [],
   "source": [
    "def obtain_offset(filepath):\n",
    "    with open(info_player_filePath, 'r') as file:\n",
    "        data = json.load(file)  \n",
    "    return data.get('start_time_system_s') - data.get('start_time_synced_s')"
   ]
  },
  {
   "cell_type": "markdown",
   "metadata": {},
   "source": [
    "Now, reading the gaze_position.csv file to obtain base data, formating time, calculating smoothed positions, and angular distance and velocity of each timestamp. And removing data that contains infinte or NaN values."
   ]
  },
  {
   "cell_type": "code",
   "execution_count": 19,
   "metadata": {},
   "outputs": [
    {
     "name": "stdout",
     "output_type": "stream",
     "text": [
      "There is a total of 8047 gaze positions\n"
     ]
    }
   ],
   "source": [
    "# Calculate angular distance given Cartesian coordinates (x, y)\n",
    "def calculate_angular_distance(x, y):\n",
    "    return np.arctan2(y, x)\n",
    "\n",
    "# Calculate velocity given angular distance and corresponding timestamps.\n",
    "def calculate_velocity(angular_distance, timestamp):\n",
    "    time_diff = np.diff(timestamp)\n",
    "    angular_distance_diff = np.diff(angular_distance)\n",
    "    velocity = angular_distance_diff / time_diff\n",
    "    return np.concatenate(([np.nan], velocity))\n",
    "\n",
    "\n",
    "# Applies Rolling Medium over the input field, and exports that into the output field\n",
    "def smooth_data(df, input, output, window_size=0):\n",
    "    df[output] = df[input].rolling(window=window_size).median()\n",
    "    return df\n",
    "\n",
    "def obtain_gaze_data(filepath: str, window=10, offset=0):\n",
    "    csv_df = pd.read_csv(filepath)\n",
    "    results_df = pd.DataFrame(columns=['gaze_timestamp',\n",
    "                                       'time',\n",
    "                                       'norm_pos_x', \n",
    "                                       'norm_pos_y', \n",
    "                                       'angular_distance',\n",
    "                                       'angular_velocity',\n",
    "                                       'movement_type',\n",
    "                                       'smoothed_norm_pos_x', \n",
    "                                       'smoothed_norm_pos_y',\n",
    "                                       'smoothed_angular_distance',\n",
    "                                       'smoothed_angular_velocity',\n",
    "                                       'smoothed_movement_type'])\n",
    "\n",
    "    # Copy the data from csv of necessary fields\n",
    "    results_df['gaze_timestamp'] = csv_df['gaze_timestamp']\n",
    "    results_df['norm_pos_x'] = csv_df['norm_pos_x']\n",
    "    results_df['norm_pos_y'] = csv_df['norm_pos_y']\n",
    "    results_df['movement_type'] = 'None'\n",
    "    results_df['smoothed_movement_type'] = 'None'\n",
    "    \n",
    "    # Populating the time field by adding the offset and then subtracting the minimum time to start from 0\n",
    "    results_df['time'] = results_df['gaze_timestamp'] + offset\n",
    "    results_df['time'] -= results_df['time'].min()\n",
    "\n",
    "    # Using rolling mean to smooth the data and to rmeove as many extreme outliers that has been missed by Pupil Export\n",
    "    results_df['smoothed_norm_pos_x'] = results_df['norm_pos_x'].rolling(window).median()\n",
    "    results_df['smoothed_norm_pos_y'] = results_df['norm_pos_y'].rolling(window).median()\n",
    "\n",
    "    # Calculating the angular distance for each x and y position for both smoothed and un-smoothed\n",
    "    results_df['angular_distance'] = calculate_angular_distance(results_df['norm_pos_x'], results_df['norm_pos_y'])\n",
    "    results_df['smoothed_angular_distance'] = calculate_angular_distance(results_df['smoothed_norm_pos_x'], results_df['smoothed_norm_pos_y'])\n",
    "\n",
    "    # Calculating the angular velocity for both smooth and un-smoothed angular distances over time\n",
    "    results_df['angular_velocity'] = calculate_velocity(results_df['angular_distance'], results_df['time'])\n",
    "    results_df['smoothed_angular_velocity'] = calculate_velocity(results_df['smoothed_angular_distance'], results_df['time'])\n",
    "\n",
    "    # Dropping NaN records and the `gaze_timestamp` field\n",
    "    results_df.replace([np.inf, -np.inf], np.nan, inplace=True)\n",
    "    results_df.dropna(inplace=True)\n",
    "    results_df = results_df.drop('gaze_timestamp', axis=1) # Remove the `gaze_timestamp` as that is not needed anymore\n",
    "\n",
    "    return results_df\n",
    "\n",
    "window_size=10\n",
    "offset = obtain_offset(info_player_filePath)\n",
    "gaze_df = obtain_gaze_data(gaze_csv_filePath, window=window_size, offset=offset)\n",
    "print(f'There is a total of {len(gaze_df)} gaze positions')\n"
   ]
  },
  {
   "cell_type": "markdown",
   "metadata": {},
   "source": [
    "### Predicting Smooth Pursuit\n",
    "Smooth pursuit occurs when the eyes tracks an moving object. There is roughly a constant velocity as the angular distance changes slowly, whereas Saccades are almost instant. We choose regions of the line where the change in velocity is under a threshold, and the change of angular distance is small enough to indicate the eyes moving between positions slowly."
   ]
  },
  {
   "cell_type": "code",
   "execution_count": 20,
   "metadata": {},
   "outputs": [
    {
     "name": "stdout",
     "output_type": "stream",
     "text": [
      "Total Smooth Pursuit Movements: 6002\n"
     ]
    }
   ],
   "source": [
    "def predict_smooth_pursuit(df, threshold_velocity=0.2, angular_distance_threshold=2e-4):\n",
    "    pursuit_regions_velocity = np.abs(np.gradient(df['angular_velocity'])) < threshold_velocity\n",
    "    pursuit_regions_distance = np.abs(np.gradient(df['angular_distance'])) > angular_distance_threshold\n",
    "    pursuit_regions = (pursuit_regions_velocity) & (pursuit_regions_distance)\n",
    "    df['movement_type'] = np.where((df['movement_type'] == 'None') & pursuit_regions, 'Smooth Pursuit', df['movement_type'])\n",
    "    \n",
    "    pursuit_regions_smoothed_velocity = np.abs(np.gradient(df['smoothed_angular_velocity'])) < threshold_velocity\n",
    "    pursuit_regions_smoothed_distance = np.abs(np.gradient(df['smoothed_angular_distance'])) > angular_distance_threshold\n",
    "    pursuit_regions_smoothed = (pursuit_regions_smoothed_velocity) & (pursuit_regions_smoothed_distance)\n",
    "    df['smoothed_movement_type'] = np.where((df['smoothed_movement_type'] == 'None') & pursuit_regions_smoothed, 'Smooth Pursuit', df['smoothed_movement_type'])\n",
    "\n",
    "predict_smooth_pursuit(gaze_df)\n",
    "smooth_pursuit = gaze_df[(gaze_df['movement_type'] == 'Smooth Pursuit') | (gaze_df['smoothed_movement_type'] == 'Smooth Pursuit')]\n",
    "print(f'Total Smooth Pursuit Movements: {len(smooth_pursuit)}')"
   ]
  },
  {
   "cell_type": "markdown",
   "metadata": {},
   "source": [
    "### Predicting Saccades\n",
    "Based on the research from https://www.ncbi.nlm.nih.gov/pmc/articles/PMC1190820/pdf/jphysiol00502-0164.pdf, Saccadic Movements have a stereotypical velocity graph where large peaks indicates a fast movement between two points (saccades). These are almost like straight lines between points. We can say that if the velocity between two  points exceeds a threshold, then this is most possibly a saccadic movement."
   ]
  },
  {
   "cell_type": "code",
   "execution_count": 21,
   "metadata": {},
   "outputs": [
    {
     "name": "stdout",
     "output_type": "stream",
     "text": [
      "Total Saccadic Movements: 2602\n"
     ]
    }
   ],
   "source": [
    "def predict_saccades(df, threshold_velocity=0.6):\n",
    "    saccade_regions_high = df['angular_velocity'] > threshold_velocity\n",
    "    accade_regions_low = df['angular_velocity'] < -threshold_velocity\n",
    "    saccade_regions = saccade_regions_high | accade_regions_low\n",
    "    df['movement_type'] = np.where(saccade_regions, 'Saccades', 'None')\n",
    "    \n",
    "    saccade_regions_high = df['smoothed_angular_velocity'] > threshold_velocity\n",
    "    accade_regions_low = df['smoothed_angular_velocity'] < -threshold_velocity\n",
    "    saccade_regions = saccade_regions_high | accade_regions_low\n",
    "    df['smoothed_movement_type'] = np.where((df['smoothed_movement_type'].isin(['None', 'Smooth Pursuit'])) & saccade_regions, 'Saccades', df['smoothed_movement_type'])\n",
    "\n",
    "predict_saccades(gaze_df)\n",
    "saccades = gaze_df[(gaze_df['movement_type'] == 'Saccades') | (gaze_df['smoothed_movement_type'] == 'Saccades')]\n",
    "print(f'Total Saccadic Movements: {len(saccades)}')"
   ]
  },
  {
   "cell_type": "markdown",
   "metadata": {},
   "source": [
    "### Predicting Fixation\n",
    "Fixations are defined as gaze remain fixed around a stationary point. It is not directly fixed but the user gazes around the same point for a long period of time.\n",
    "\n",
    "Pupil Player provides another csv file called `fixations` which identifies the timestamp of when a fixation occurs, and how long it can take. The function `plot_fixation_graph` takes regions starting from whatever second the fixation starts up until the end of the fixation indicated by by the `duration` field."
   ]
  },
  {
   "cell_type": "code",
   "execution_count": 22,
   "metadata": {},
   "outputs": [
    {
     "name": "stdout",
     "output_type": "stream",
     "text": [
      "Total Fixation Movements: 1513\n"
     ]
    }
   ],
   "source": [
    "def predict_fixation(df, offset, time_offset=0.10, filepath='fixations.csv'):\n",
    "    fixations_df = pd.read_csv(filepath)\n",
    "    fixations_df['time'] = fixations_df['start_timestamp'] + offset\n",
    "    fixations_df['time'] -= fixations_df['time'].min()\n",
    "\n",
    "    for _, fixation in fixations_df.iterrows():\n",
    "        start_time = fixation['time']\n",
    "        duration = (fixation['duration'] / 1000.0) - time_offset  # Convert into seconds\n",
    "\n",
    "        # Mark rows within the fixation region as 'Fixation' in both columns\n",
    "        fixation_regions = (df['time'] >= start_time) & (df['time'] <= start_time + duration)\n",
    "        df.loc[fixation_regions, 'movement_type'] = 'Fixation'\n",
    "        df.loc[fixation_regions, 'smoothed_movement_type'] = 'Fixation'\n",
    "\n",
    "predict_fixation(gaze_df, offset, filepath=fixation_filepath)\n",
    "fixation = gaze_df[(gaze_df['movement_type'] == 'Fixation') | (gaze_df['smoothed_movement_type'] == 'Fixation')]\n",
    "print(f'Total Fixation Movements: {len(fixation)}')"
   ]
  },
  {
   "cell_type": "markdown",
   "metadata": {},
   "source": [
    "### Exporting Data\n",
    "To be used for later or with the Visualier, this exports the dataframe and an json containing the offset for annotations"
   ]
  },
  {
   "cell_type": "code",
   "execution_count": 23,
   "metadata": {},
   "outputs": [
    {
     "name": "stdout",
     "output_type": "stream",
     "text": [
      "           time  norm_pos_x  norm_pos_y  angular_distance  angular_velocity  \\\n",
      "10     0.041993    0.447689    0.675596          0.985574          0.021544   \n",
      "11     0.045940    0.449159    0.675410          0.983937         -0.414970   \n",
      "12     0.050111    0.448847    0.674255          0.983468         -0.112364   \n",
      "13     0.054276    0.449363    0.674197          0.982898         -0.136873   \n",
      "14     0.058438    0.448817    0.673858          0.983227          0.079137   \n",
      "...         ...         ...         ...               ...               ...   \n",
      "8053  34.970336    0.464320    0.636235          0.940353          0.460151   \n",
      "8054  34.972857    0.463690    0.633115          0.938659         -0.672159   \n",
      "8055  34.975481    0.461486    0.633185          0.940981          0.884997   \n",
      "8056  34.979083    0.463648    0.638210          0.942518          0.426671   \n",
      "8057  34.982586    0.461764    0.638160          0.944416          0.541717   \n",
      "\n",
      "     movement_type  smoothed_norm_pos_x  smoothed_norm_pos_y  \\\n",
      "10        Fixation             0.446363             0.672996   \n",
      "11        Fixation             0.446681             0.673301   \n",
      "12        Fixation             0.446966             0.673624   \n",
      "13        Fixation             0.447365             0.673923   \n",
      "14        Fixation             0.447995             0.674027   \n",
      "...            ...                  ...                  ...   \n",
      "8053          None             0.464264             0.636300   \n",
      "8054      Saccades             0.464172             0.635545   \n",
      "8055      Saccades             0.463905             0.634036   \n",
      "8056          None             0.463669             0.634036   \n",
      "8057          None             0.463280             0.634036   \n",
      "\n",
      "      smoothed_angular_distance  smoothed_angular_velocity  \\\n",
      "10                     0.985165                  -0.020603   \n",
      "11                     0.985045                  -0.030249   \n",
      "12                     0.984972                  -0.017498   \n",
      "13                     0.984766                  -0.049600   \n",
      "14                     0.984189                  -0.138626   \n",
      "...                         ...                        ...   \n",
      "8053                   0.940459                   0.035717   \n",
      "8054                   0.939988                  -0.186745   \n",
      "8055                   0.939130                  -0.327023   \n",
      "8056                   0.939373                   0.067329   \n",
      "8057                   0.939772                   0.114048   \n",
      "\n",
      "     smoothed_movement_type  \n",
      "10                 Fixation  \n",
      "11                 Fixation  \n",
      "12                 Fixation  \n",
      "13                 Fixation  \n",
      "14                 Fixation  \n",
      "...                     ...  \n",
      "8053                   None  \n",
      "8054         Smooth Pursuit  \n",
      "8055         Smooth Pursuit  \n",
      "8056                   None  \n",
      "8057         Smooth Pursuit  \n",
      "\n",
      "[8047 rows x 11 columns]\n"
     ]
    }
   ],
   "source": [
    "# Allows the dataframe to be exported as a csv file of a given name as well as a JSON file that stores the offset if the graph was to be used again\n",
    "def export_gaze_data(df, offset, filename='results'):\n",
    "    df.to_csv(f'{filename}.csv', index=False)\n",
    "    with open('offset.json', 'w') as json_file:\n",
    "        json.dump({'offset':offset}, json_file)\n",
    "\n",
    "filename = 'test'\n",
    "print(gaze_df)\n",
    "export_gaze_data(gaze_df, offset, filename) # Exporting the dataframe as a csv file"
   ]
  },
  {
   "cell_type": "markdown",
   "metadata": {},
   "source": [
    "# Gaze Visualiser\n",
    "This notebook takes in one files taken from the Pupil Recordings `annotations.csv` and a `offset.json`, and the data compiled from the analyser from the analyser. These are:"
   ]
  },
  {
   "cell_type": "code",
   "execution_count": 24,
   "metadata": {},
   "outputs": [],
   "source": [
    "# Imports\n",
    "import pandas as pd\n",
    "import matplotlib\n",
    "import matplotlib.pyplot as plt\n",
    "import numpy as np\n",
    "import random\n",
    "import json\n",
    "import warnings\n",
    "import os\n",
    "\n",
    "matplotlib.use('TkAgg')\n",
    "warnings.filterwarnings(\"ignore\", category=RuntimeWarning)\n",
    "\n",
    "# File Paths\n",
    "annotations_filepath = 'source/annotations.csv'\n",
    "gaze_filepath = ''\n",
    "offset_filepath = 'offset.json'"
   ]
  },
  {
   "cell_type": "markdown",
   "metadata": {},
   "source": [
    "## Reading the offset for correct time format and finding the filename of the dat`"
   ]
  },
  {
   "cell_type": "code",
   "execution_count": 25,
   "metadata": {},
   "outputs": [],
   "source": [
    "def obtain_offset(filepath):\n",
    "    with open(offset_filepath, 'r') as file:\n",
    "        data = json.load(file)  \n",
    "    return data.get('offset')\n",
    "\n",
    "def find_gaze_csv(directory):\n",
    "    for filename in os.listdir(directory):\n",
    "        if filename.endswith(\".csv\"):\n",
    "            return filename\n",
    "    return None\n"
   ]
  },
  {
   "cell_type": "markdown",
   "metadata": {},
   "source": [
    "## Creating a visual representation"
   ]
  },
  {
   "cell_type": "markdown",
   "metadata": {},
   "source": [
    "Displaying the difference between both non-smoothed and smoothed versions of `norm_pos_x` and `norm_pos_y:"
   ]
  },
  {
   "cell_type": "code",
   "execution_count": 26,
   "metadata": {},
   "outputs": [],
   "source": [
    "def plot_norm_positions(df):\n",
    "    fig, axs = plt.subplots(1, 2, figsize=(15, 6))\n",
    "    axs[0].plot(df['time'], df['norm_pos_x'], label='Original norm_pos_x')\n",
    "    axs[0].plot(df['time'], df['smoothed_norm_pos_x'], label=f'Smoothed norm_pos_x (window={10})', linestyle='--')\n",
    "    axs[0].set_title('Norm_pos_x')\n",
    "\n",
    "    axs[1].plot(df['time'], df['norm_pos_y'], label='Original norm_pos_y')\n",
    "    axs[1].plot(df['time'], df['smoothed_norm_pos_y'], label=f'Smoothed norm_pos_y (window={10})', linestyle='--')\n",
    "    axs[1].set_title('Norm_pos_y')\n",
    "\n",
    "    for ax in axs:\n",
    "        ax.set_xlabel('Time (s)')\n",
    "        ax.set_ylabel('Position')\n",
    "        ax.legend()\n",
    "    fig.show()"
   ]
  },
  {
   "cell_type": "markdown",
   "metadata": {},
   "source": [
    "## Plotting Angular Distance agaisnt Time"
   ]
  },
  {
   "cell_type": "markdown",
   "metadata": {},
   "source": [
    "Using the `angular_distance` or `smoothed_angular_distance` plot an angular distance x time grapgh:"
   ]
  },
  {
   "cell_type": "code",
   "execution_count": 27,
   "metadata": {},
   "outputs": [],
   "source": [
    "# Plot angular distance data from a DataFrame against time.\n",
    "def plot_angular_distance(fig, ax, df, use_smooth=False, show_both=False):\n",
    "\n",
    "    if show_both:\n",
    "        ax.plot(df['time'], df['angular_distance'], label='Gaze Angular Distance',)\n",
    "        ax.plot(df['time'], df['smoothed_angular_distance'], label=f'Angular Distance', linestyle='--')\n",
    "    else:\n",
    "        if use_smooth:\n",
    "            ax.plot(df['time'], df['smoothed_angular_distance'], label=f'Angular Distance', color='orange')\n",
    "        else:\n",
    "            ax.plot(df['time'], df['angular_distance'], label='Gaze Angular Distance', color='orange')\n",
    "\n",
    "    ax.set_xlabel('Time (s)')\n",
    "    ax.set_ylabel('Angular Distance (rad)', color='black')\n",
    "    ax.legend(loc='lower right')\n",
    "    fig.suptitle('Interception Experiment')\n",
    "    fig.tight_layout()\n",
    "\n",
    "# Defining a graph to work with throughout the script:\n",
    "# combined_figure, ax3 = plt.subplots(figsize=(16, 8))\n",
    "# plot_angular_distance(combined_figure, ax3, gaze_df, show_both=True)\n",
    "# combined_figure.show()\n"
   ]
  },
  {
   "cell_type": "code",
   "execution_count": 28,
   "metadata": {},
   "outputs": [],
   "source": [
    "def plot_velocity_graph(df, use_smooth=False):\n",
    "    if use_smooth:\n",
    "        source_velocity = 'smoothed_angular_velocity'\n",
    "    else:\n",
    "        source_velocity = 'angular_velocity'\n",
    "    \n",
    "    velocities = df[source_velocity]\n",
    "    plt.figure(figsize=(18, 6))\n",
    "    plt.plot(df['time'], velocities, label=f'{velocities}',)\n",
    "\n",
    "    plt.title('Angular Velocity x Time Graph')\n",
    "    plt.xlabel('Time (s)')\n",
    "    plt.ylabel('Angular Velocity (rad/s)')\n",
    "    # plt.ylabel('Gaze Position')\n",
    "# plt.show()"
   ]
  },
  {
   "cell_type": "markdown",
   "metadata": {},
   "source": [
    "## Representing Eye Movements\n",
    "Within the dataframe, there is a field called `movement_type` where we identify which one of the three eye movements (Saccade, Fixations, and Smooth Pursuit) base on velocities and provided csv file from Pupil Lab."
   ]
  },
  {
   "cell_type": "markdown",
   "metadata": {},
   "source": [
    "### Visualising Regions of Saccades"
   ]
  },
  {
   "cell_type": "code",
   "execution_count": 29,
   "metadata": {},
   "outputs": [],
   "source": [
    "def plot_saccades(ax, df, use_smooth=False):\n",
    "    if use_smooth:\n",
    "        source_distance = 'smoothed_angular_distance'\n",
    "        movement_type= 'smoothed_movement_type'\n",
    "    else:\n",
    "        source_distance = 'angular_distance'\n",
    "        movement_type = 'movement_type'\n",
    "\n",
    "    distances = df[source_distance]\n",
    "    saccade_regions = df[movement_type] == 'Saccades'\n",
    "\n",
    "    ax.plot(df['time'], np.where(saccade_regions, distances, np.nan), color='red', label='Saccade Line')\n",
    "    ax.legend(loc='lower right')\n",
    "\n",
    "\n"
   ]
  },
  {
   "cell_type": "markdown",
   "metadata": {},
   "source": [
    "### Identifying Regions of Smooth Pursuit"
   ]
  },
  {
   "cell_type": "code",
   "execution_count": 30,
   "metadata": {},
   "outputs": [],
   "source": [
    "def plot_smooth_pursuits(ax, df, use_smooth=False):\n",
    "    if use_smooth:\n",
    "        source_distance = 'smoothed_angular_distance'\n",
    "        movement_type_column = 'smoothed_movement_type'\n",
    "    else:\n",
    "        source_distance = 'angular_distance'\n",
    "        movement_type_column = 'movement_type'\n",
    "\n",
    "    distances = df[source_distance]\n",
    "    smooth_pursuit_regions = df[movement_type_column] == 'Smooth Pursuit'\n",
    "\n",
    "    # Plot for Smooth Pursuit Data\n",
    "    ax.plot(df['time'], np.where(smooth_pursuit_regions, distances, np.nan), color='green', label='Smooth Pursuit')\n",
    "    ax.legend(loc='upper left')"
   ]
  },
  {
   "cell_type": "markdown",
   "metadata": {},
   "source": [
    "### Identifying Regions of Fixation"
   ]
  },
  {
   "cell_type": "code",
   "execution_count": 31,
   "metadata": {},
   "outputs": [],
   "source": [
    "def plot_fixations(ax, df, use_smooth=False):\n",
    "    if use_smooth:\n",
    "        source_distance = 'smoothed_angular_distance'\n",
    "        movement_type= 'smoothed_movement_type'\n",
    "    else:\n",
    "        source_distance = 'angular_distance'\n",
    "        movement_type = 'movement_type'\n",
    "\n",
    "    distances = df[source_distance]\n",
    "    fixation_regions = df[movement_type] == 'Fixation'\n",
    "\n",
    "    ax.plot(df['time'], np.where(fixation_regions, distances, np.nan), color='blue', label='Fixation')\n",
    "    ax.legend(loc='lower right')"
   ]
  },
  {
   "cell_type": "markdown",
   "metadata": {},
   "source": [
    "### Combining the identification functions\n",
    "This would combine each of the function and allow the user control on what they wish to present on the graph"
   ]
  },
  {
   "cell_type": "code",
   "execution_count": 32,
   "metadata": {},
   "outputs": [],
   "source": [
    "def plot_data(gaze_df, use_smooth, fixations=False, smooth_pursuits=False, saccades=False):\n",
    "    figure, ax = plt.subplots(figsize=(16, 8))\n",
    "    plot_angular_distance(figure, ax, gaze_df, use_smooth=use_smooth)\n",
    "\n",
    "    if fixations:\n",
    "        plot_fixations(ax, gaze_df, use_smooth=use_smooth)\n",
    "    \n",
    "    if smooth_pursuits:\n",
    "        plot_smooth_pursuits(ax, gaze_df, use_smooth=use_smooth)\n",
    "\n",
    "    if saccades:\n",
    "        plot_saccades(ax, gaze_df, use_smooth=use_smooth)\n",
    "\n",
    "    return figure, ax"
   ]
  },
  {
   "cell_type": "markdown",
   "metadata": {},
   "source": [
    "## Adding Annotations to the graph\n",
    "The annotation is compiled of different events that has occured throughout the event."
   ]
  },
  {
   "cell_type": "markdown",
   "metadata": {},
   "source": [
    "`add_annotations` looks at a gieven filepath to an `annotation_csv` file and uses `labels` and `timestamp` to determine where to plot events on a Angular Distance Time Graph"
   ]
  },
  {
   "cell_type": "code",
   "execution_count": 33,
   "metadata": {},
   "outputs": [],
   "source": [
    "# Generate a random RGB color tuple.\n",
    "def generate_random_color():\n",
    "    return (random.random(), random.random(), random.random())\n",
    "\n",
    "# Draw lines and labels representing spawned objects and interceptions on the given axis.\n",
    "def draw_objects_and_interceptions(ax, spawn_timestamps, interception_timestamps, annotations_df, obstacle_ids):\n",
    "    object_colors = {}\n",
    "\n",
    "    # Handle Spawning annotations\n",
    "    for timestamp, obj_id in zip(spawn_timestamps, annotations_df.loc[annotations_df['label'] == ('Spawning'), 'id']):\n",
    "\n",
    "        # Checks if the current annotation is refering to an Obstacle objectType by filtering the annotations_df for the Object ID and retrieving the first 'objectType' (which there should only be one)\n",
    "        obj_type = annotations_df.loc[(annotations_df['label'] == 'Spawning') & (annotations_df['id'] == obj_id), 'objectType'].values[0] if 'objectType' in annotations_df.columns else None\n",
    "        if obj_type == 'Obstacle' and obj_id in obstacle_ids:\n",
    "            draw_object_line(ax, timestamp, obj_id, object_colors, is_interception=False)\n",
    "\n",
    "    # Handle Interception annotations\n",
    "    for timestamp, obj_id in zip(interception_timestamps, annotations_df.loc[annotations_df['label'] == 'Intercepted', 'id']):\n",
    "        obj_type = annotations_df.loc[(annotations_df['label'] =='Intercepted') & (annotations_df['id'] == obj_id),'objectType'].values[0] if 'objectType' in annotations_df.columns else None\n",
    "        # There is a chance for an interception to be missed, so if there exists no records for the ID with label 'Intercepted' then there would be no object type to use, therefore don't need to plot\n",
    "        \n",
    "        if obj_type == 'Obstacle' and obj_id in obstacle_ids:\n",
    "            draw_object_line(ax, timestamp, obj_id, object_colors, is_interception=True)\n",
    "\n",
    "    return object_colors\n",
    "\n",
    "# Draw vertical lines on the given axis to represent the start and end of an experiment and scale the x axis to those timestamps\n",
    "def draw_experiment_lines(ax, start_timestamp, end_timestamp):\n",
    "    ax.axvline(x=start_timestamp, color='black', linestyle='--')\n",
    "    ax.axvline(x=end_timestamp, color='black', linestyle='--')\n",
    "    ax.set_xlim(start_timestamp, end_timestamp)\n",
    "\n",
    "# Draw a vertical line on the given axis to represent an object and add a text label.\n",
    "def draw_object_line(ax, timestamp, obj_id, object_colors, is_interception):\n",
    "    # Assign a random RGB color if ID doesn't have one\n",
    "    object_colors.setdefault(obj_id, generate_random_color())\n",
    "\n",
    "    # Get the line color\n",
    "    line_color = object_colors[obj_id]\n",
    "\n",
    "    # Determine the vertical alignment and position\n",
    "    vertical_alignment = 'top' if is_interception else 'bottom'\n",
    "    vertical_position = ax.get_ylim()[0] + 0.02 if vertical_alignment == 'bottom' else ax.get_ylim()[1] - 0.02\n",
    "\n",
    "    # Plot a vertical line\n",
    "    ax.axvline(x=timestamp, color=line_color, linestyle='--', alpha=0.7)\n",
    "\n",
    "    # Add text label\n",
    "    label_text = f'{\"Intercepted\" if is_interception else \"Spawned\"} {int(obj_id)} at {timestamp:.2f}'\n",
    "    ax.text(timestamp, vertical_position, label_text, rotation=90, va=vertical_alignment, ha='right', color='black')\n",
    "\n",
    "\n",
    "# Plot regions on the given axis, using colors based on the object_colors dictionary for each object ID.\n",
    "def plot_observations(ax, annotations_df, object_colours, fill_threshold=1.0):\n",
    "    looking_at_df = annotations_df.loc[annotations_df['label'] == 'Looking At'].copy()\n",
    "\n",
    "    # Create an empty dictionary to store the regions for each object ID\n",
    "    id_region_dict = {}\n",
    "\n",
    "    # Initialise variables for tracking consecutive points\n",
    "    current_obj_id = None\n",
    "    start_time = None\n",
    "\n",
    "    # Iterate through each row in the 'Looking At' dataframe\n",
    "    for _, row in looking_at_df.iterrows():\n",
    "        obj_id = row['id']\n",
    "        timestamp = row['time']\n",
    "\n",
    "        # Check if it's the same object and within the threshold seconds\n",
    "        if obj_id == current_obj_id and start_time is not None and timestamp - start_time <= fill_threshold: \n",
    "            end_time = timestamp # Update the end time for the current region\n",
    "        else:\n",
    "            # A new region is created when the next ID does not match the current region's ID OR if the time between two points is greater than the threshold (indicating it's a new region for the same ID)\n",
    "            if current_obj_id is not None and start_time is not None:\n",
    "                if current_obj_id not in id_region_dict: # If an ID has not been given regions, this will make sure that it has been intialised before we can add new regions\n",
    "                    id_region_dict[current_obj_id] = [] \n",
    "                id_region_dict[current_obj_id].append((start_time, end_time)) # Adds this region to the key with the Object ID\n",
    "\n",
    "            # Update tracking variables for the next iteration\n",
    "            current_obj_id = obj_id\n",
    "            start_time = timestamp\n",
    "            end_time = timestamp\n",
    "\n",
    "    # Add the last region after the loop\n",
    "    if current_obj_id is not None and start_time is not None:\n",
    "        if current_obj_id not in id_region_dict:\n",
    "            id_region_dict[current_obj_id] = []\n",
    "        id_region_dict[current_obj_id].append((start_time, end_time))\n",
    "\n",
    "    # Iterates through each key-value pair\n",
    "    for obj_id, regions in id_region_dict.items():\n",
    "        color = object_colours[obj_id] # Retrieves the colour of the current object from the dictionary\n",
    "\n",
    "        for region in regions: # Each region should have a start time, and an end time. We iterate through each one whiles also colouring the region between them\n",
    "            start_time, end_time = region\n",
    "            ax.axvspan(start_time, end_time, color=color, alpha=0.2, label=f'Object ID {obj_id}')\n",
    "\n",
    "# Add annotations to a given plot.\n",
    "def add_annotations(ax, offset, filepath='annotations.csv', show_observable=False):\n",
    "    if filepath:\n",
    "        # Creates a DataFrame containing all the annotation data, and also creating a new field called 'Time' which format timestamps into the corresponding time of the recording\n",
    "        annotations_df = pd.read_csv(filepath)\n",
    "        annotations_df['time'] = annotations_df['timestamp'] + offset\n",
    "        annotations_df['time'] -= annotations_df['time'].min()\n",
    "\n",
    "        # Filter annotations for 'Spawning' or 'Intercepted' labels and ObjectType 'Obstacle'\n",
    "        filtered_annotations = annotations_df[\n",
    "            (annotations_df['label'].isin(['Spawning', 'Intercepted'])) &\n",
    "            (annotations_df['objectType'] == 'Obstacle')\n",
    "        ]\n",
    "\n",
    "        # Identifying different types of annotation to plot on the graph\n",
    "        spawn_timestamps = filtered_annotations.loc[filtered_annotations['label'] == 'Spawning', 'time'].values\n",
    "        interception_timestamps = filtered_annotations.loc[filtered_annotations['label'] == 'Intercepted', 'time'].values\n",
    "\n",
    "        start_timestamp = annotations_df.loc[(annotations_df['label'] == 'Experiment Started'), 'time'].values\n",
    "        end_timestamp = annotations_df.loc[(annotations_df['label'] == 'Experiment Ended'), 'time'].values\n",
    "\n",
    "        draw_experiment_lines(ax, start_timestamp, end_timestamp) # Draws a line for when the experiment has started and ended, as well as adjusting the x-axis scale to show only between those points\n",
    "\n",
    "        # Extract ObjectType 'Obstacle' and ID for plotting\n",
    "        obstacle_ids = filtered_annotations.loc[:, 'id'].values\n",
    "\n",
    "        # Each object should be given a colour for their specific ID, this can be used for when we want to show what object the user is currently observing\n",
    "        object_colors = draw_objects_and_interceptions(ax, spawn_timestamps, interception_timestamps, annotations_df, obstacle_ids)\n",
    "        \n",
    "        # This will show regions of which indicates where the user looks at depending on the annotations with the label 'Looking At'\n",
    "        if show_observable:\n",
    "            plot_observations(ax, annotations_df, object_colors)"
   ]
  },
  {
   "cell_type": "markdown",
   "metadata": {},
   "source": [
    "## Displaying outcome of identifications and annotations:"
   ]
  },
  {
   "cell_type": "code",
   "execution_count": 34,
   "metadata": {},
   "outputs": [],
   "source": [
    "# Retrieve the filepath of the csv file containing the data needed\n",
    "gaze_filepath = find_gaze_csv(os.getcwd())\n",
    "\n",
    "# Creates a DataFrame base on the csv in that filepath\n",
    "gaze_df = pd.read_csv(gaze_filepath)\n",
    "\n",
    "# Obtain the offset that helps format the annotation file\n",
    "offset = obtain_offset(offset_filepath)\n",
    "\n",
    "# Plot the eye data with required designs\n",
    "figure, ax = plot_data(gaze_df, use_smooth=True, fixations=True, saccades=True, smooth_pursuits=True)\n",
    "\n",
    "# Add the annotations to the graph\n",
    "add_annotations(ax, offset, annotations_filepath, True)\n",
    "\n",
    "# Display the graph\n",
    "figure.show()\n",
    "\n",
    "plot_norm_positions(gaze_df)\n"
   ]
  }
 ],
 "metadata": {
  "kernelspec": {
   "display_name": "Python 3",
   "language": "python",
   "name": "python3"
  },
  "language_info": {
   "codemirror_mode": {
    "name": "ipython",
    "version": 3
   },
   "file_extension": ".py",
   "mimetype": "text/x-python",
   "name": "python",
   "nbconvert_exporter": "python",
   "pygments_lexer": "ipython3",
   "version": "3.11.2"
  }
 },
 "nbformat": 4,
 "nbformat_minor": 2
}
